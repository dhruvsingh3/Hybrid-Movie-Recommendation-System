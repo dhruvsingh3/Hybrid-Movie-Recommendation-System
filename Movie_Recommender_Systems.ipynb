{
  "cells": [
    {
      "source": [
        "# IMPORTANT: RUN THIS CELL IN ORDER TO IMPORT YOUR KAGGLE DATA SOURCES,\n",
        "# THEN FEEL FREE TO DELETE THIS CELL.\n",
        "# NOTE: THIS NOTEBOOK ENVIRONMENT DIFFERS FROM KAGGLE'S PYTHON\n",
        "# ENVIRONMENT SO THERE MAY BE MISSING LIBRARIES USED BY YOUR\n",
        "# NOTEBOOK.\n",
        "import kagglehub\n",
        "rounakbanik_the_movies_dataset_path = kagglehub.dataset_download('rounakbanik/the-movies-dataset')\n",
        "\n",
        "print('Data source import complete.')\n"
      ],
      "metadata": {
        "id": "8vuedWu7ygfm",
        "outputId": "78870217-b092-4f1b-b3f7-c2c519c55267",
        "colab": {
          "base_uri": "https://localhost:8080/"
        }
      },
      "cell_type": "code",
      "outputs": [
        {
          "output_type": "stream",
          "name": "stdout",
          "text": [
            "Data source import complete.\n"
          ]
        }
      ],
      "execution_count": 34
    },
    {
      "source": [
        "# Movies Recommender System"
      ],
      "metadata": {
        "_uuid": "b63091dc0b9d04f19ab8861754a83b79c1789e96",
        "_cell_guid": "da447453-96e3-48fe-93cd-b9195433add6",
        "id": "uKdiBq2Vygfr"
      },
      "cell_type": "markdown"
    },
    {
      "source": [
        "![](http://labs.criteo.com/wp-content/uploads/2017/08/CustomersWhoBought3.jpg)"
      ],
      "metadata": {
        "_uuid": "93799938d163a5c4d6097e04fc566c04a1237718",
        "_cell_guid": "5ec09319-a139-488b-b9fa-51780fd771dc",
        "id": "5wUaNcMeygfu"
      },
      "cell_type": "markdown"
    },
    {
      "source": [
        "This is the second part of my Springboard Capstone Project on Movie Data Analysis and Recommendation Systems. In my first notebook ( [The Story of Film](https://www.kaggle.com/rounakbanik/the-story-of-film/) ), I attempted at narrating the story of film by performing an extensive exploratory data analysis on Movies Metadata collected from TMDB. I also built two extremely minimalist predictive models to predict movie revenue and movie success and visualise which features influence the output (revenue and success respectively).\n",
        "\n",
        "In this notebook, I will attempt at implementing a few recommendation algorithms (content based, popularity based and collaborative filtering) and try to build an ensemble of these models to come up with our final recommendation system. With us, we have two MovieLens datasets.\n",
        "\n",
        "* **The Full Dataset:** Consists of 26,000,000 ratings and 750,000 tag applications applied to 45,000 movies by 270,000 users. Includes tag genome data with 12 million relevance scores across 1,100 tags.\n",
        "* **The Small Dataset:** Comprises of 100,000 ratings and 1,300 tag applications applied to 9,000 movies by 700 users.\n",
        "\n",
        "I will build a Simple Recommender using movies from the *Full Dataset* whereas all personalised recommender systems will make use of the small dataset (due to the computing power I possess being very limited). As a first step, I will build my simple recommender system."
      ],
      "metadata": {
        "_uuid": "c9e02ccf7a6f04280a8a949fe82cc3c12f8a769f",
        "_cell_guid": "351091d0-4223-4510-b737-3d109883c4bf",
        "id": "jPZlbirsygfu"
      },
      "cell_type": "markdown"
    },
    {
      "cell_type": "code",
      "source": [
        "# !pip install scikit-surprise"
      ],
      "metadata": {
        "id": "65hzvJ3Oz-uK",
        "collapsed": true
      },
      "execution_count": 35,
      "outputs": []
    },
    {
      "cell_type": "code",
      "source": [
        "#!pip uninstall -y numpy scikit-surprise"
      ],
      "metadata": {
        "id": "z9oRyOPZXvUM"
      },
      "execution_count": 36,
      "outputs": []
    },
    {
      "cell_type": "code",
      "source": [
        "# !pip install numpy==1.23.5 scikit-surprise"
      ],
      "metadata": {
        "id": "SyhjHUJ2XzJR"
      },
      "execution_count": 37,
      "outputs": []
    },
    {
      "cell_type": "code",
      "source": [
        "# Downgrade numpy to a compatible version for surprise\n",
        "!pip install numpy<2\n",
        "\n",
        "# Restart runtime manually after this command:\n",
        "# Runtime -> Restart runtime\n",
        "\n",
        "# Then import your libraries, including surprise\n",
        "import pandas as pd\n",
        "import numpy as np\n",
        "import matplotlib.pyplot as plt\n",
        "import seaborn as sns\n",
        "from scipy import stats\n",
        "from ast import literal_eval\n",
        "from sklearn.feature_extraction.text import TfidfVectorizer, CountVectorizer\n",
        "from sklearn.metrics.pairwise import linear_kernel, cosine_similarity\n",
        "from nltk.stem.snowball import SnowballStemmer\n",
        "from nltk.stem.wordnet import WordNetLemmatizer\n",
        "from nltk.corpus import wordnet\n",
        "from surprise import Reader, Dataset, SVD\n",
        "from surprise.model_selection import cross_validate\n",
        "import warnings\n",
        "warnings.simplefilter('ignore')"
      ],
      "metadata": {
        "id": "Nz5l0EXh2RYB",
        "colab": {
          "base_uri": "https://localhost:8080/"
        },
        "outputId": "337c5c5c-ae1d-41fe-f41a-1242ced00c47"
      },
      "execution_count": 38,
      "outputs": [
        {
          "output_type": "stream",
          "name": "stdout",
          "text": [
            "/bin/bash: line 1: 2: No such file or directory\n"
          ]
        }
      ]
    },
    {
      "source": [
        "## Simple Recommender\n",
        "\n",
        "The Simple Recommender offers generalized recommnendations to every user based on movie popularity and (sometimes) genre. The basic idea behind this recommender is that movies that are more popular and more critically acclaimed will have a higher probability of being liked by the average audience. This model does not give personalized recommendations based on the user.\n",
        "\n",
        "The implementation of this model is extremely trivial. All we have to do is sort our movies based on ratings and popularity and display the top movies of our list. As an added step, we can pass in a genre argument to get the top movies of a particular genre."
      ],
      "metadata": {
        "_uuid": "49131e65f312719487848f6ef42488041a44028e",
        "_cell_guid": "f130bae8-1bb0-415d-9a39-557fe180b490",
        "id": "rbxPVSIeygfw"
      },
      "cell_type": "markdown"
    },
    {
      "outputs": [
        {
          "output_type": "execute_result",
          "data": {
            "text/plain": [
              "   adult                              belongs_to_collection    budget  \\\n",
              "0  False  {'id': 10194, 'name': 'Toy Story Collection', ...  30000000   \n",
              "1  False                                                NaN  65000000   \n",
              "2  False  {'id': 119050, 'name': 'Grumpy Old Men Collect...         0   \n",
              "3  False                                                NaN  16000000   \n",
              "4  False  {'id': 96871, 'name': 'Father of the Bride Col...         0   \n",
              "\n",
              "                                              genres  \\\n",
              "0  [{'id': 16, 'name': 'Animation'}, {'id': 35, '...   \n",
              "1  [{'id': 12, 'name': 'Adventure'}, {'id': 14, '...   \n",
              "2  [{'id': 10749, 'name': 'Romance'}, {'id': 35, ...   \n",
              "3  [{'id': 35, 'name': 'Comedy'}, {'id': 18, 'nam...   \n",
              "4                     [{'id': 35, 'name': 'Comedy'}]   \n",
              "\n",
              "                               homepage     id    imdb_id original_language  \\\n",
              "0  http://toystory.disney.com/toy-story    862  tt0114709                en   \n",
              "1                                   NaN   8844  tt0113497                en   \n",
              "2                                   NaN  15602  tt0113228                en   \n",
              "3                                   NaN  31357  tt0114885                en   \n",
              "4                                   NaN  11862  tt0113041                en   \n",
              "\n",
              "                original_title  \\\n",
              "0                    Toy Story   \n",
              "1                      Jumanji   \n",
              "2             Grumpier Old Men   \n",
              "3            Waiting to Exhale   \n",
              "4  Father of the Bride Part II   \n",
              "\n",
              "                                            overview  ... release_date  \\\n",
              "0  Led by Woody, Andy's toys live happily in his ...  ...   1995-10-30   \n",
              "1  When siblings Judy and Peter discover an encha...  ...   1995-12-15   \n",
              "2  A family wedding reignites the ancient feud be...  ...   1995-12-22   \n",
              "3  Cheated on, mistreated and stepped on, the wom...  ...   1995-12-22   \n",
              "4  Just when George Banks has recovered from his ...  ...   1995-02-10   \n",
              "\n",
              "       revenue runtime                                   spoken_languages  \\\n",
              "0  373554033.0    81.0           [{'iso_639_1': 'en', 'name': 'English'}]   \n",
              "1  262797249.0   104.0  [{'iso_639_1': 'en', 'name': 'English'}, {'iso...   \n",
              "2          0.0   101.0           [{'iso_639_1': 'en', 'name': 'English'}]   \n",
              "3   81452156.0   127.0           [{'iso_639_1': 'en', 'name': 'English'}]   \n",
              "4   76578911.0   106.0           [{'iso_639_1': 'en', 'name': 'English'}]   \n",
              "\n",
              "     status                                            tagline  \\\n",
              "0  Released                                                NaN   \n",
              "1  Released          Roll the dice and unleash the excitement!   \n",
              "2  Released  Still Yelling. Still Fighting. Still Ready for...   \n",
              "3  Released  Friends are the people who let you be yourself...   \n",
              "4  Released  Just When His World Is Back To Normal... He's ...   \n",
              "\n",
              "                         title  video vote_average vote_count  \n",
              "0                    Toy Story  False          7.7     5415.0  \n",
              "1                      Jumanji  False          6.9     2413.0  \n",
              "2             Grumpier Old Men  False          6.5       92.0  \n",
              "3            Waiting to Exhale  False          6.1       34.0  \n",
              "4  Father of the Bride Part II  False          5.7      173.0  \n",
              "\n",
              "[5 rows x 24 columns]"
            ],
            "text/html": [
              "\n",
              "  <div id=\"df-c9e6d901-986f-4082-a5fa-1baf6df13335\" class=\"colab-df-container\">\n",
              "    <div>\n",
              "<style scoped>\n",
              "    .dataframe tbody tr th:only-of-type {\n",
              "        vertical-align: middle;\n",
              "    }\n",
              "\n",
              "    .dataframe tbody tr th {\n",
              "        vertical-align: top;\n",
              "    }\n",
              "\n",
              "    .dataframe thead th {\n",
              "        text-align: right;\n",
              "    }\n",
              "</style>\n",
              "<table border=\"1\" class=\"dataframe\">\n",
              "  <thead>\n",
              "    <tr style=\"text-align: right;\">\n",
              "      <th></th>\n",
              "      <th>adult</th>\n",
              "      <th>belongs_to_collection</th>\n",
              "      <th>budget</th>\n",
              "      <th>genres</th>\n",
              "      <th>homepage</th>\n",
              "      <th>id</th>\n",
              "      <th>imdb_id</th>\n",
              "      <th>original_language</th>\n",
              "      <th>original_title</th>\n",
              "      <th>overview</th>\n",
              "      <th>...</th>\n",
              "      <th>release_date</th>\n",
              "      <th>revenue</th>\n",
              "      <th>runtime</th>\n",
              "      <th>spoken_languages</th>\n",
              "      <th>status</th>\n",
              "      <th>tagline</th>\n",
              "      <th>title</th>\n",
              "      <th>video</th>\n",
              "      <th>vote_average</th>\n",
              "      <th>vote_count</th>\n",
              "    </tr>\n",
              "  </thead>\n",
              "  <tbody>\n",
              "    <tr>\n",
              "      <th>0</th>\n",
              "      <td>False</td>\n",
              "      <td>{'id': 10194, 'name': 'Toy Story Collection', ...</td>\n",
              "      <td>30000000</td>\n",
              "      <td>[{'id': 16, 'name': 'Animation'}, {'id': 35, '...</td>\n",
              "      <td>http://toystory.disney.com/toy-story</td>\n",
              "      <td>862</td>\n",
              "      <td>tt0114709</td>\n",
              "      <td>en</td>\n",
              "      <td>Toy Story</td>\n",
              "      <td>Led by Woody, Andy's toys live happily in his ...</td>\n",
              "      <td>...</td>\n",
              "      <td>1995-10-30</td>\n",
              "      <td>373554033.0</td>\n",
              "      <td>81.0</td>\n",
              "      <td>[{'iso_639_1': 'en', 'name': 'English'}]</td>\n",
              "      <td>Released</td>\n",
              "      <td>NaN</td>\n",
              "      <td>Toy Story</td>\n",
              "      <td>False</td>\n",
              "      <td>7.7</td>\n",
              "      <td>5415.0</td>\n",
              "    </tr>\n",
              "    <tr>\n",
              "      <th>1</th>\n",
              "      <td>False</td>\n",
              "      <td>NaN</td>\n",
              "      <td>65000000</td>\n",
              "      <td>[{'id': 12, 'name': 'Adventure'}, {'id': 14, '...</td>\n",
              "      <td>NaN</td>\n",
              "      <td>8844</td>\n",
              "      <td>tt0113497</td>\n",
              "      <td>en</td>\n",
              "      <td>Jumanji</td>\n",
              "      <td>When siblings Judy and Peter discover an encha...</td>\n",
              "      <td>...</td>\n",
              "      <td>1995-12-15</td>\n",
              "      <td>262797249.0</td>\n",
              "      <td>104.0</td>\n",
              "      <td>[{'iso_639_1': 'en', 'name': 'English'}, {'iso...</td>\n",
              "      <td>Released</td>\n",
              "      <td>Roll the dice and unleash the excitement!</td>\n",
              "      <td>Jumanji</td>\n",
              "      <td>False</td>\n",
              "      <td>6.9</td>\n",
              "      <td>2413.0</td>\n",
              "    </tr>\n",
              "    <tr>\n",
              "      <th>2</th>\n",
              "      <td>False</td>\n",
              "      <td>{'id': 119050, 'name': 'Grumpy Old Men Collect...</td>\n",
              "      <td>0</td>\n",
              "      <td>[{'id': 10749, 'name': 'Romance'}, {'id': 35, ...</td>\n",
              "      <td>NaN</td>\n",
              "      <td>15602</td>\n",
              "      <td>tt0113228</td>\n",
              "      <td>en</td>\n",
              "      <td>Grumpier Old Men</td>\n",
              "      <td>A family wedding reignites the ancient feud be...</td>\n",
              "      <td>...</td>\n",
              "      <td>1995-12-22</td>\n",
              "      <td>0.0</td>\n",
              "      <td>101.0</td>\n",
              "      <td>[{'iso_639_1': 'en', 'name': 'English'}]</td>\n",
              "      <td>Released</td>\n",
              "      <td>Still Yelling. Still Fighting. Still Ready for...</td>\n",
              "      <td>Grumpier Old Men</td>\n",
              "      <td>False</td>\n",
              "      <td>6.5</td>\n",
              "      <td>92.0</td>\n",
              "    </tr>\n",
              "    <tr>\n",
              "      <th>3</th>\n",
              "      <td>False</td>\n",
              "      <td>NaN</td>\n",
              "      <td>16000000</td>\n",
              "      <td>[{'id': 35, 'name': 'Comedy'}, {'id': 18, 'nam...</td>\n",
              "      <td>NaN</td>\n",
              "      <td>31357</td>\n",
              "      <td>tt0114885</td>\n",
              "      <td>en</td>\n",
              "      <td>Waiting to Exhale</td>\n",
              "      <td>Cheated on, mistreated and stepped on, the wom...</td>\n",
              "      <td>...</td>\n",
              "      <td>1995-12-22</td>\n",
              "      <td>81452156.0</td>\n",
              "      <td>127.0</td>\n",
              "      <td>[{'iso_639_1': 'en', 'name': 'English'}]</td>\n",
              "      <td>Released</td>\n",
              "      <td>Friends are the people who let you be yourself...</td>\n",
              "      <td>Waiting to Exhale</td>\n",
              "      <td>False</td>\n",
              "      <td>6.1</td>\n",
              "      <td>34.0</td>\n",
              "    </tr>\n",
              "    <tr>\n",
              "      <th>4</th>\n",
              "      <td>False</td>\n",
              "      <td>{'id': 96871, 'name': 'Father of the Bride Col...</td>\n",
              "      <td>0</td>\n",
              "      <td>[{'id': 35, 'name': 'Comedy'}]</td>\n",
              "      <td>NaN</td>\n",
              "      <td>11862</td>\n",
              "      <td>tt0113041</td>\n",
              "      <td>en</td>\n",
              "      <td>Father of the Bride Part II</td>\n",
              "      <td>Just when George Banks has recovered from his ...</td>\n",
              "      <td>...</td>\n",
              "      <td>1995-02-10</td>\n",
              "      <td>76578911.0</td>\n",
              "      <td>106.0</td>\n",
              "      <td>[{'iso_639_1': 'en', 'name': 'English'}]</td>\n",
              "      <td>Released</td>\n",
              "      <td>Just When His World Is Back To Normal... He's ...</td>\n",
              "      <td>Father of the Bride Part II</td>\n",
              "      <td>False</td>\n",
              "      <td>5.7</td>\n",
              "      <td>173.0</td>\n",
              "    </tr>\n",
              "  </tbody>\n",
              "</table>\n",
              "<p>5 rows × 24 columns</p>\n",
              "</div>\n",
              "    <div class=\"colab-df-buttons\">\n",
              "      \n",
              "  <div class=\"colab-df-container\">\n",
              "    <button class=\"colab-df-convert\" onclick=\"convertToInteractive('df-c9e6d901-986f-4082-a5fa-1baf6df13335')\"\n",
              "            title=\"Convert this dataframe to an interactive table.\"\n",
              "            style=\"display:none;\">\n",
              "      \n",
              "  <svg xmlns=\"http://www.w3.org/2000/svg\" height=\"24px\" viewBox=\"0 -960 960 960\">\n",
              "    <path d=\"M120-120v-720h720v720H120Zm60-500h600v-160H180v160Zm220 220h160v-160H400v160Zm0 220h160v-160H400v160ZM180-400h160v-160H180v160Zm440 0h160v-160H620v160ZM180-180h160v-160H180v160Zm440 0h160v-160H620v160Z\"/>\n",
              "  </svg>\n",
              "    </button>\n",
              "    \n",
              "  <style>\n",
              "    .colab-df-container {\n",
              "      display:flex;\n",
              "      gap: 12px;\n",
              "    }\n",
              "\n",
              "    .colab-df-convert {\n",
              "      background-color: #E8F0FE;\n",
              "      border: none;\n",
              "      border-radius: 50%;\n",
              "      cursor: pointer;\n",
              "      display: none;\n",
              "      fill: #1967D2;\n",
              "      height: 32px;\n",
              "      padding: 0 0 0 0;\n",
              "      width: 32px;\n",
              "    }\n",
              "\n",
              "    .colab-df-convert:hover {\n",
              "      background-color: #E2EBFA;\n",
              "      box-shadow: 0px 1px 2px rgba(60, 64, 67, 0.3), 0px 1px 3px 1px rgba(60, 64, 67, 0.15);\n",
              "      fill: #174EA6;\n",
              "    }\n",
              "\n",
              "    .colab-df-buttons div {\n",
              "      margin-bottom: 4px;\n",
              "    }\n",
              "\n",
              "    [theme=dark] .colab-df-convert {\n",
              "      background-color: #3B4455;\n",
              "      fill: #D2E3FC;\n",
              "    }\n",
              "\n",
              "    [theme=dark] .colab-df-convert:hover {\n",
              "      background-color: #434B5C;\n",
              "      box-shadow: 0px 1px 3px 1px rgba(0, 0, 0, 0.15);\n",
              "      filter: drop-shadow(0px 1px 2px rgba(0, 0, 0, 0.3));\n",
              "      fill: #FFFFFF;\n",
              "    }\n",
              "  </style>\n",
              "\n",
              "    <script>\n",
              "      const buttonEl =\n",
              "        document.querySelector('#df-c9e6d901-986f-4082-a5fa-1baf6df13335 button.colab-df-convert');\n",
              "      buttonEl.style.display =\n",
              "        google.colab.kernel.accessAllowed ? 'block' : 'none';\n",
              "\n",
              "      async function convertToInteractive(key) {\n",
              "        const element = document.querySelector('#df-c9e6d901-986f-4082-a5fa-1baf6df13335');\n",
              "        const dataTable =\n",
              "          await google.colab.kernel.invokeFunction('convertToInteractive',\n",
              "                                                    [key], {});\n",
              "        if (!dataTable) return;\n",
              "\n",
              "        const docLinkHtml = 'Like what you see? Visit the ' +\n",
              "          '<a target=\"_blank\" href=https://colab.research.google.com/notebooks/data_table.ipynb>data table notebook</a>'\n",
              "          + ' to learn more about interactive tables.';\n",
              "        element.innerHTML = '';\n",
              "        dataTable['output_type'] = 'display_data';\n",
              "        await google.colab.output.renderOutput(dataTable, element);\n",
              "        const docLink = document.createElement('div');\n",
              "        docLink.innerHTML = docLinkHtml;\n",
              "        element.appendChild(docLink);\n",
              "      }\n",
              "    </script>\n",
              "  </div>\n",
              "  \n",
              "    </div>\n",
              "  </div>\n",
              "  "
            ]
          },
          "metadata": {},
          "execution_count": 53
        }
      ],
      "execution_count": 53,
      "source": [
        "md = pd.read_csv('/content/movies_metadata.csv')\n",
        "md.head()"
      ],
      "metadata": {
        "_uuid": "e0d62612bc9b9e9561afdc48fd1e75a9b0c82337",
        "_cell_guid": "0356d2a0-d8b2-4234-af78-bd51eaa3a390",
        "id": "YvkHUr48ygfx",
        "colab": {
          "base_uri": "https://localhost:8080/",
          "height": 695
        },
        "outputId": "429f4c2b-887a-46de-d7b9-7b4cd8c7229d"
      },
      "cell_type": "code"
    },
    {
      "outputs": [],
      "execution_count": 54,
      "source": [
        "md['genres'] = md['genres'].fillna('[]').apply(literal_eval).apply(lambda x: [i['name'] for i in x] if isinstance(x, list) else [])"
      ],
      "metadata": {
        "_uuid": "d4df4c2158595611f2ea7ad4b16f71900e529ea8",
        "_cell_guid": "f933a861-409a-4df7-98f1-7960a2a3874b",
        "collapsed": true,
        "id": "qKgqQgZhygfx"
      },
      "cell_type": "code"
    },
    {
      "source": [
        "I use the TMDB Ratings to come up with our **Top Movies Chart.** I will use IMDB's *weighted rating* formula to construct my chart. Mathematically, it is represented as follows:\n",
        "\n",
        "Weighted Rating (WR) = $(\\frac{v}{v + m} . R) + (\\frac{m}{v + m} . C)$\n",
        "\n",
        "where,\n",
        "* *v* is the number of votes for the movie\n",
        "* *m* is the minimum votes required to be listed in the chart\n",
        "* *R* is the average rating of the movie\n",
        "* *C* is the mean vote across the whole report\n",
        "\n",
        "The next step is to determine an appropriate value for *m*, the minimum votes required to be listed in the chart. We will use **95th percentile** as our cutoff. In other words, for a movie to feature in the charts, it must have more votes than at least 95% of the movies in the list.\n",
        "\n",
        "I will build our overall Top 250 Chart and will define a function to build charts for a particular genre. Let's begin!"
      ],
      "metadata": {
        "_uuid": "9571875d383f237f126febe9c76f966e2869fdc3",
        "_cell_guid": "23cf39ba-ef09-4972-9d1f-ed91cb2ef134",
        "id": "PMAo6Oc7ygfy"
      },
      "cell_type": "markdown"
    },
    {
      "outputs": [
        {
          "output_type": "execute_result",
          "data": {
            "text/plain": [
              "5.244896612406511"
            ]
          },
          "metadata": {},
          "execution_count": 41
        }
      ],
      "execution_count": 41,
      "source": [
        "vote_counts = md[md['vote_count'].notnull()]['vote_count'].astype('int')\n",
        "vote_averages = md[md['vote_average'].notnull()]['vote_average'].astype('int')\n",
        "C = vote_averages.mean()\n",
        "C"
      ],
      "metadata": {
        "_uuid": "1e732487caba09d9543f3da49cbe7ff5092e2675",
        "_cell_guid": "de5d2a9a-9d67-4309-9256-844756318bd0",
        "id": "NBgSMsl4ygfy",
        "colab": {
          "base_uri": "https://localhost:8080/"
        },
        "outputId": "e55f536b-d7bc-4250-fec9-e972090be7d9"
      },
      "cell_type": "code"
    },
    {
      "outputs": [
        {
          "output_type": "execute_result",
          "data": {
            "text/plain": [
              "434.0"
            ]
          },
          "metadata": {},
          "execution_count": 42
        }
      ],
      "execution_count": 42,
      "source": [
        "m = vote_counts.quantile(0.95)\n",
        "m"
      ],
      "metadata": {
        "_uuid": "23c2e113380f1bad9205ab2d0f8c372b0c246e79",
        "_cell_guid": "f2a3dff7-6430-471b-bd83-589779ab52b0",
        "id": "hgfS2BBRygfz",
        "colab": {
          "base_uri": "https://localhost:8080/"
        },
        "outputId": "6a3b1908-8600-4026-dacd-f702a4b9b8b6"
      },
      "cell_type": "code"
    },
    {
      "outputs": [],
      "execution_count": 43,
      "source": [
        "md['year'] = pd.to_datetime(md['release_date'], errors='coerce').apply(lambda x: str(x).split('-')[0] if x != np.nan else np.nan)"
      ],
      "metadata": {
        "_uuid": "dbb8261dedb84e4a8ea8bed843c9de3ad9f3859d",
        "_cell_guid": "93f480df-6e7b-427c-bbc0-906fd41640b0",
        "collapsed": true,
        "id": "FJOBuoZFygfz"
      },
      "cell_type": "code"
    },
    {
      "outputs": [
        {
          "output_type": "execute_result",
          "data": {
            "text/plain": [
              "(2274, 6)"
            ]
          },
          "metadata": {},
          "execution_count": 44
        }
      ],
      "execution_count": 44,
      "source": [
        "qualified = md[(md['vote_count'] >= m) & (md['vote_count'].notnull()) & (md['vote_average'].notnull())][['title', 'year', 'vote_count', 'vote_average', 'popularity', 'genres']]\n",
        "qualified['vote_count'] = qualified['vote_count'].astype('int')\n",
        "qualified['vote_average'] = qualified['vote_average'].astype('int')\n",
        "qualified.shape"
      ],
      "metadata": {
        "_uuid": "dcb30bee69ef1a6ead2c745565e5e7bfd5314d7a",
        "_cell_guid": "e7e91af4-7ff5-4553-bfbb-b9339096397e",
        "id": "VAeA3thIygfz",
        "colab": {
          "base_uri": "https://localhost:8080/"
        },
        "outputId": "1579d8de-6251-4f15-e5dd-01f6661fac02"
      },
      "cell_type": "code"
    },
    {
      "source": [
        "Therefore, to qualify to be considered for the chart, a movie has to have at least **434 votes** on TMDB. We also see that the average rating for a movie on TMDB is **5.244** on a scale of 10. **2274** Movies qualify to be on our chart."
      ],
      "metadata": {
        "_uuid": "4c114ab330fc78c91953166d515a8e963ebc3238",
        "_cell_guid": "46efcb66-53a0-4f6a-b0df-92ba7b623143",
        "id": "jSwGcFBwygfz"
      },
      "cell_type": "markdown"
    },
    {
      "outputs": [],
      "execution_count": 45,
      "source": [
        "def weighted_rating(x):\n",
        "    v = x['vote_count']\n",
        "    R = x['vote_average']\n",
        "    return (v/(v+m) * R) + (m/(m+v) * C)"
      ],
      "metadata": {
        "_uuid": "6414e1aa7ed8cb4184ec451f02a18cd187e5345e",
        "_cell_guid": "db959c40-7618-4755-a05a-5347f9460929",
        "collapsed": true,
        "id": "FAEk13EJygf0"
      },
      "cell_type": "code"
    },
    {
      "outputs": [],
      "execution_count": 46,
      "source": [
        "qualified['wr'] = qualified.apply(weighted_rating, axis=1)"
      ],
      "metadata": {
        "_uuid": "78ec5052b0e89ae51a834aa3a305cf55b6849f42",
        "_cell_guid": "0f5e4384-51be-41df-a023-12a13e77d66c",
        "collapsed": true,
        "id": "ITO3CqEsygf0"
      },
      "cell_type": "code"
    },
    {
      "outputs": [],
      "execution_count": 47,
      "source": [
        "qualified = qualified.sort_values('wr', ascending=False).head(250)"
      ],
      "metadata": {
        "_uuid": "ed0ac7c8483f904d4f5ec0d554096d4782fa8bcf",
        "_cell_guid": "ccbd8eca-cbfe-4843-9885-de11976f117c",
        "collapsed": true,
        "id": "oI5nU5Rfygf0"
      },
      "cell_type": "code"
    },
    {
      "source": [
        "### Top Movies"
      ],
      "metadata": {
        "_uuid": "75eb9e1de05386d229746785a25c6a5c6ee4b61a",
        "_cell_guid": "36a1b9ac-aff3-4d80-9e19-83a45f282062",
        "id": "3EVtNEanygf0"
      },
      "cell_type": "markdown"
    },
    {
      "outputs": [
        {
          "output_type": "execute_result",
          "data": {
            "text/plain": [
              "                                                   title  year  vote_count  \\\n",
              "15480                                          Inception  2010       14075   \n",
              "12481                                    The Dark Knight  2008       12269   \n",
              "22879                                       Interstellar  2014       11187   \n",
              "2843                                          Fight Club  1999        9678   \n",
              "4863   The Lord of the Rings: The Fellowship of the Ring  2001        8892   \n",
              "292                                         Pulp Fiction  1994        8670   \n",
              "314                             The Shawshank Redemption  1994        8358   \n",
              "7000       The Lord of the Rings: The Return of the King  2003        8226   \n",
              "351                                         Forrest Gump  1994        8147   \n",
              "5814               The Lord of the Rings: The Two Towers  2002        7641   \n",
              "256                                            Star Wars  1977        6778   \n",
              "1225                                  Back to the Future  1985        6239   \n",
              "834                                        The Godfather  1972        6024   \n",
              "1154                             The Empire Strikes Back  1980        5998   \n",
              "46                                                 Se7en  1995        5915   \n",
              "\n",
              "       vote_average  popularity  \\\n",
              "15480             8   29.108149   \n",
              "12481             8  123.167259   \n",
              "22879             8   32.213481   \n",
              "2843              8   63.869599   \n",
              "4863              8   32.070725   \n",
              "292               8  140.950236   \n",
              "314               8   51.645403   \n",
              "7000              8   29.324358   \n",
              "351               8   48.307194   \n",
              "5814              8   29.423537   \n",
              "256               8   42.149697   \n",
              "1225              8   25.778509   \n",
              "834               8   41.109264   \n",
              "1154              8   19.470959   \n",
              "46                8    18.45743   \n",
              "\n",
              "                                                  genres        wr  \n",
              "15480  [Action, Thriller, Science Fiction, Mystery, A...  7.917588  \n",
              "12481                   [Drama, Action, Crime, Thriller]  7.905871  \n",
              "22879                [Adventure, Drama, Science Fiction]  7.897107  \n",
              "2843                                             [Drama]  7.881753  \n",
              "4863                        [Adventure, Fantasy, Action]  7.871787  \n",
              "292                                    [Thriller, Crime]  7.868660  \n",
              "314                                       [Drama, Crime]  7.864000  \n",
              "7000                        [Adventure, Fantasy, Action]  7.861927  \n",
              "351                             [Comedy, Drama, Romance]  7.860656  \n",
              "5814                        [Adventure, Fantasy, Action]  7.851924  \n",
              "256                 [Adventure, Action, Science Fiction]  7.834205  \n",
              "1225        [Adventure, Comedy, Science Fiction, Family]  7.820813  \n",
              "834                                       [Drama, Crime]  7.814847  \n",
              "1154                [Adventure, Action, Science Fiction]  7.814099  \n",
              "46                            [Crime, Mystery, Thriller]  7.811669  "
            ],
            "text/html": [
              "\n",
              "  <div id=\"df-02c5da77-710a-4da8-81da-754946795b0b\" class=\"colab-df-container\">\n",
              "    <div>\n",
              "<style scoped>\n",
              "    .dataframe tbody tr th:only-of-type {\n",
              "        vertical-align: middle;\n",
              "    }\n",
              "\n",
              "    .dataframe tbody tr th {\n",
              "        vertical-align: top;\n",
              "    }\n",
              "\n",
              "    .dataframe thead th {\n",
              "        text-align: right;\n",
              "    }\n",
              "</style>\n",
              "<table border=\"1\" class=\"dataframe\">\n",
              "  <thead>\n",
              "    <tr style=\"text-align: right;\">\n",
              "      <th></th>\n",
              "      <th>title</th>\n",
              "      <th>year</th>\n",
              "      <th>vote_count</th>\n",
              "      <th>vote_average</th>\n",
              "      <th>popularity</th>\n",
              "      <th>genres</th>\n",
              "      <th>wr</th>\n",
              "    </tr>\n",
              "  </thead>\n",
              "  <tbody>\n",
              "    <tr>\n",
              "      <th>15480</th>\n",
              "      <td>Inception</td>\n",
              "      <td>2010</td>\n",
              "      <td>14075</td>\n",
              "      <td>8</td>\n",
              "      <td>29.108149</td>\n",
              "      <td>[Action, Thriller, Science Fiction, Mystery, A...</td>\n",
              "      <td>7.917588</td>\n",
              "    </tr>\n",
              "    <tr>\n",
              "      <th>12481</th>\n",
              "      <td>The Dark Knight</td>\n",
              "      <td>2008</td>\n",
              "      <td>12269</td>\n",
              "      <td>8</td>\n",
              "      <td>123.167259</td>\n",
              "      <td>[Drama, Action, Crime, Thriller]</td>\n",
              "      <td>7.905871</td>\n",
              "    </tr>\n",
              "    <tr>\n",
              "      <th>22879</th>\n",
              "      <td>Interstellar</td>\n",
              "      <td>2014</td>\n",
              "      <td>11187</td>\n",
              "      <td>8</td>\n",
              "      <td>32.213481</td>\n",
              "      <td>[Adventure, Drama, Science Fiction]</td>\n",
              "      <td>7.897107</td>\n",
              "    </tr>\n",
              "    <tr>\n",
              "      <th>2843</th>\n",
              "      <td>Fight Club</td>\n",
              "      <td>1999</td>\n",
              "      <td>9678</td>\n",
              "      <td>8</td>\n",
              "      <td>63.869599</td>\n",
              "      <td>[Drama]</td>\n",
              "      <td>7.881753</td>\n",
              "    </tr>\n",
              "    <tr>\n",
              "      <th>4863</th>\n",
              "      <td>The Lord of the Rings: The Fellowship of the Ring</td>\n",
              "      <td>2001</td>\n",
              "      <td>8892</td>\n",
              "      <td>8</td>\n",
              "      <td>32.070725</td>\n",
              "      <td>[Adventure, Fantasy, Action]</td>\n",
              "      <td>7.871787</td>\n",
              "    </tr>\n",
              "    <tr>\n",
              "      <th>292</th>\n",
              "      <td>Pulp Fiction</td>\n",
              "      <td>1994</td>\n",
              "      <td>8670</td>\n",
              "      <td>8</td>\n",
              "      <td>140.950236</td>\n",
              "      <td>[Thriller, Crime]</td>\n",
              "      <td>7.868660</td>\n",
              "    </tr>\n",
              "    <tr>\n",
              "      <th>314</th>\n",
              "      <td>The Shawshank Redemption</td>\n",
              "      <td>1994</td>\n",
              "      <td>8358</td>\n",
              "      <td>8</td>\n",
              "      <td>51.645403</td>\n",
              "      <td>[Drama, Crime]</td>\n",
              "      <td>7.864000</td>\n",
              "    </tr>\n",
              "    <tr>\n",
              "      <th>7000</th>\n",
              "      <td>The Lord of the Rings: The Return of the King</td>\n",
              "      <td>2003</td>\n",
              "      <td>8226</td>\n",
              "      <td>8</td>\n",
              "      <td>29.324358</td>\n",
              "      <td>[Adventure, Fantasy, Action]</td>\n",
              "      <td>7.861927</td>\n",
              "    </tr>\n",
              "    <tr>\n",
              "      <th>351</th>\n",
              "      <td>Forrest Gump</td>\n",
              "      <td>1994</td>\n",
              "      <td>8147</td>\n",
              "      <td>8</td>\n",
              "      <td>48.307194</td>\n",
              "      <td>[Comedy, Drama, Romance]</td>\n",
              "      <td>7.860656</td>\n",
              "    </tr>\n",
              "    <tr>\n",
              "      <th>5814</th>\n",
              "      <td>The Lord of the Rings: The Two Towers</td>\n",
              "      <td>2002</td>\n",
              "      <td>7641</td>\n",
              "      <td>8</td>\n",
              "      <td>29.423537</td>\n",
              "      <td>[Adventure, Fantasy, Action]</td>\n",
              "      <td>7.851924</td>\n",
              "    </tr>\n",
              "    <tr>\n",
              "      <th>256</th>\n",
              "      <td>Star Wars</td>\n",
              "      <td>1977</td>\n",
              "      <td>6778</td>\n",
              "      <td>8</td>\n",
              "      <td>42.149697</td>\n",
              "      <td>[Adventure, Action, Science Fiction]</td>\n",
              "      <td>7.834205</td>\n",
              "    </tr>\n",
              "    <tr>\n",
              "      <th>1225</th>\n",
              "      <td>Back to the Future</td>\n",
              "      <td>1985</td>\n",
              "      <td>6239</td>\n",
              "      <td>8</td>\n",
              "      <td>25.778509</td>\n",
              "      <td>[Adventure, Comedy, Science Fiction, Family]</td>\n",
              "      <td>7.820813</td>\n",
              "    </tr>\n",
              "    <tr>\n",
              "      <th>834</th>\n",
              "      <td>The Godfather</td>\n",
              "      <td>1972</td>\n",
              "      <td>6024</td>\n",
              "      <td>8</td>\n",
              "      <td>41.109264</td>\n",
              "      <td>[Drama, Crime]</td>\n",
              "      <td>7.814847</td>\n",
              "    </tr>\n",
              "    <tr>\n",
              "      <th>1154</th>\n",
              "      <td>The Empire Strikes Back</td>\n",
              "      <td>1980</td>\n",
              "      <td>5998</td>\n",
              "      <td>8</td>\n",
              "      <td>19.470959</td>\n",
              "      <td>[Adventure, Action, Science Fiction]</td>\n",
              "      <td>7.814099</td>\n",
              "    </tr>\n",
              "    <tr>\n",
              "      <th>46</th>\n",
              "      <td>Se7en</td>\n",
              "      <td>1995</td>\n",
              "      <td>5915</td>\n",
              "      <td>8</td>\n",
              "      <td>18.45743</td>\n",
              "      <td>[Crime, Mystery, Thriller]</td>\n",
              "      <td>7.811669</td>\n",
              "    </tr>\n",
              "  </tbody>\n",
              "</table>\n",
              "</div>\n",
              "    <div class=\"colab-df-buttons\">\n",
              "      \n",
              "  <div class=\"colab-df-container\">\n",
              "    <button class=\"colab-df-convert\" onclick=\"convertToInteractive('df-02c5da77-710a-4da8-81da-754946795b0b')\"\n",
              "            title=\"Convert this dataframe to an interactive table.\"\n",
              "            style=\"display:none;\">\n",
              "      \n",
              "  <svg xmlns=\"http://www.w3.org/2000/svg\" height=\"24px\" viewBox=\"0 -960 960 960\">\n",
              "    <path d=\"M120-120v-720h720v720H120Zm60-500h600v-160H180v160Zm220 220h160v-160H400v160Zm0 220h160v-160H400v160ZM180-400h160v-160H180v160Zm440 0h160v-160H620v160ZM180-180h160v-160H180v160Zm440 0h160v-160H620v160Z\"/>\n",
              "  </svg>\n",
              "    </button>\n",
              "    \n",
              "  <style>\n",
              "    .colab-df-container {\n",
              "      display:flex;\n",
              "      gap: 12px;\n",
              "    }\n",
              "\n",
              "    .colab-df-convert {\n",
              "      background-color: #E8F0FE;\n",
              "      border: none;\n",
              "      border-radius: 50%;\n",
              "      cursor: pointer;\n",
              "      display: none;\n",
              "      fill: #1967D2;\n",
              "      height: 32px;\n",
              "      padding: 0 0 0 0;\n",
              "      width: 32px;\n",
              "    }\n",
              "\n",
              "    .colab-df-convert:hover {\n",
              "      background-color: #E2EBFA;\n",
              "      box-shadow: 0px 1px 2px rgba(60, 64, 67, 0.3), 0px 1px 3px 1px rgba(60, 64, 67, 0.15);\n",
              "      fill: #174EA6;\n",
              "    }\n",
              "\n",
              "    .colab-df-buttons div {\n",
              "      margin-bottom: 4px;\n",
              "    }\n",
              "\n",
              "    [theme=dark] .colab-df-convert {\n",
              "      background-color: #3B4455;\n",
              "      fill: #D2E3FC;\n",
              "    }\n",
              "\n",
              "    [theme=dark] .colab-df-convert:hover {\n",
              "      background-color: #434B5C;\n",
              "      box-shadow: 0px 1px 3px 1px rgba(0, 0, 0, 0.15);\n",
              "      filter: drop-shadow(0px 1px 2px rgba(0, 0, 0, 0.3));\n",
              "      fill: #FFFFFF;\n",
              "    }\n",
              "  </style>\n",
              "\n",
              "    <script>\n",
              "      const buttonEl =\n",
              "        document.querySelector('#df-02c5da77-710a-4da8-81da-754946795b0b button.colab-df-convert');\n",
              "      buttonEl.style.display =\n",
              "        google.colab.kernel.accessAllowed ? 'block' : 'none';\n",
              "\n",
              "      async function convertToInteractive(key) {\n",
              "        const element = document.querySelector('#df-02c5da77-710a-4da8-81da-754946795b0b');\n",
              "        const dataTable =\n",
              "          await google.colab.kernel.invokeFunction('convertToInteractive',\n",
              "                                                    [key], {});\n",
              "        if (!dataTable) return;\n",
              "\n",
              "        const docLinkHtml = 'Like what you see? Visit the ' +\n",
              "          '<a target=\"_blank\" href=https://colab.research.google.com/notebooks/data_table.ipynb>data table notebook</a>'\n",
              "          + ' to learn more about interactive tables.';\n",
              "        element.innerHTML = '';\n",
              "        dataTable['output_type'] = 'display_data';\n",
              "        await google.colab.output.renderOutput(dataTable, element);\n",
              "        const docLink = document.createElement('div');\n",
              "        docLink.innerHTML = docLinkHtml;\n",
              "        element.appendChild(docLink);\n",
              "      }\n",
              "    </script>\n",
              "  </div>\n",
              "  \n",
              "    </div>\n",
              "  </div>\n",
              "  "
            ]
          },
          "metadata": {},
          "execution_count": 48
        }
      ],
      "execution_count": 48,
      "source": [
        "qualified.head(15)"
      ],
      "metadata": {
        "_uuid": "f7f6821b7e9aff099b81fcc425fd20109894b351",
        "_cell_guid": "0bca5b03-0835-4902-aaa1-beceb9d9d47f",
        "id": "1-lv4V-Yygf1",
        "colab": {
          "base_uri": "https://localhost:8080/",
          "height": 633
        },
        "outputId": "86d8ceac-3679-4cd6-be33-40cbc1a03dfa"
      },
      "cell_type": "code"
    },
    {
      "source": [
        "We see that three Christopher Nolan Films, **Inception**, **The Dark Knight** and **Interstellar** occur at the very top of our chart. The chart also indicates a strong bias of TMDB Users towards particular genres and directors.\n",
        "\n",
        "Let us now construct our function that builds charts for particular genres. For this, we will use relax our default conditions to the **85th** percentile instead of 95."
      ],
      "metadata": {
        "_uuid": "dd0636ab9235cef9afab293696b5c57521cc28b9",
        "_cell_guid": "0942cc17-4e7c-4293-be59-0993261af6e3",
        "id": "hKCXX5FBygf2"
      },
      "cell_type": "markdown"
    },
    {
      "outputs": [],
      "execution_count": 49,
      "source": [
        "s = md.apply(lambda x: pd.Series(x['genres']),axis=1).stack().reset_index(level=1, drop=True)\n",
        "s.name = 'genre'\n",
        "gen_md = md.drop('genres', axis=1).join(s)"
      ],
      "metadata": {
        "_uuid": "b59a35544efcd50e89e4bb1ea14bbfe32fc9bcd3",
        "_cell_guid": "c6be871d-62d4-4ec4-abe4-6ca1b1c01fa0",
        "collapsed": true,
        "id": "t7WMXYuiygf2"
      },
      "cell_type": "code"
    },
    {
      "outputs": [],
      "execution_count": 50,
      "source": [
        "def build_chart(genre, percentile=0.85):\n",
        "    df = gen_md[gen_md['genre'] == genre]\n",
        "    vote_counts = df[df['vote_count'].notnull()]['vote_count'].astype('int')\n",
        "    vote_averages = df[df['vote_average'].notnull()]['vote_average'].astype('int')\n",
        "    C = vote_averages.mean()\n",
        "    m = vote_counts.quantile(percentile)\n",
        "\n",
        "    qualified = df[(df['vote_count'] >= m) & (df['vote_count'].notnull()) & (df['vote_average'].notnull())][['title', 'year', 'vote_count', 'vote_average', 'popularity']]\n",
        "    qualified['vote_count'] = qualified['vote_count'].astype('int')\n",
        "    qualified['vote_average'] = qualified['vote_average'].astype('int')\n",
        "\n",
        "    qualified['wr'] = qualified.apply(lambda x: (x['vote_count']/(x['vote_count']+m) * x['vote_average']) + (m/(m+x['vote_count']) * C), axis=1)\n",
        "    qualified = qualified.sort_values('wr', ascending=False).head(250)\n",
        "\n",
        "    return qualified"
      ],
      "metadata": {
        "_uuid": "1fdfea9cd4b046b11ff8f2ac4f2bea74fccb8a8b",
        "_cell_guid": "759652cb-5b16-4951-995c-6a3bdbae0e4e",
        "collapsed": true,
        "id": "-g0RSaWeygf3"
      },
      "cell_type": "code"
    },
    {
      "source": [
        "Let us see our method in action by displaying the Top 15 Romance Movies (Romance almost didn't feature at all in our Generic Top Chart despite  being one of the most popular movie genres).\n",
        "\n",
        "### Top Romance Movies"
      ],
      "metadata": {
        "_uuid": "a76ce0f8a8f614aa6f23cb9a6e0fd6af6d048642",
        "_cell_guid": "55f22de0-0df9-405a-9197-df5a8c0e8466",
        "id": "t8FKcUfxygf3"
      },
      "cell_type": "markdown"
    },
    {
      "outputs": [
        {
          "output_type": "execute_result",
          "data": {
            "text/plain": [
              "                             title  year  vote_count  vote_average popularity  \\\n",
              "10309  Dilwale Dulhania Le Jayenge  1995         661             9  34.457024   \n",
              "351                   Forrest Gump  1994        8147             8  48.307194   \n",
              "876                        Vertigo  1958        1162             8   18.20822   \n",
              "40251                   Your Name.  2016        1030             8  34.461252   \n",
              "883               Some Like It Hot  1959         835             8  11.845107   \n",
              "1132               Cinema Paradiso  1988         834             8  14.177005   \n",
              "19901                     Paperman  2012         734             8   7.198633   \n",
              "37863                  Sing Street  2016         669             8  10.672862   \n",
              "882                  The Apartment  1960         498             8  11.994281   \n",
              "38718               The Handmaiden  2016         453             8  16.727405   \n",
              "3189                   City Lights  1931         444             8  10.891524   \n",
              "24886             The Way He Looks  2014         262             8   5.711274   \n",
              "45437               In a Heartbeat  2017         146             8   20.82178   \n",
              "1639                       Titanic  1997        7770             7   26.88907   \n",
              "19731      Silver Linings Playbook  2012        4840             7  14.488111   \n",
              "\n",
              "             wr  \n",
              "10309  8.565285  \n",
              "351    7.971357  \n",
              "876    7.811667  \n",
              "40251  7.789489  \n",
              "883    7.745154  \n",
              "1132   7.744878  \n",
              "19901  7.713951  \n",
              "37863  7.689483  \n",
              "882    7.599317  \n",
              "38718  7.566166  \n",
              "3189   7.558867  \n",
              "24886  7.331363  \n",
              "45437  7.003959  \n",
              "1639   6.981546  \n",
              "19731  6.970581  "
            ],
            "text/html": [
              "\n",
              "  <div id=\"df-c583e103-bbd3-40a7-9ec0-f971387f0dff\" class=\"colab-df-container\">\n",
              "    <div>\n",
              "<style scoped>\n",
              "    .dataframe tbody tr th:only-of-type {\n",
              "        vertical-align: middle;\n",
              "    }\n",
              "\n",
              "    .dataframe tbody tr th {\n",
              "        vertical-align: top;\n",
              "    }\n",
              "\n",
              "    .dataframe thead th {\n",
              "        text-align: right;\n",
              "    }\n",
              "</style>\n",
              "<table border=\"1\" class=\"dataframe\">\n",
              "  <thead>\n",
              "    <tr style=\"text-align: right;\">\n",
              "      <th></th>\n",
              "      <th>title</th>\n",
              "      <th>year</th>\n",
              "      <th>vote_count</th>\n",
              "      <th>vote_average</th>\n",
              "      <th>popularity</th>\n",
              "      <th>wr</th>\n",
              "    </tr>\n",
              "  </thead>\n",
              "  <tbody>\n",
              "    <tr>\n",
              "      <th>10309</th>\n",
              "      <td>Dilwale Dulhania Le Jayenge</td>\n",
              "      <td>1995</td>\n",
              "      <td>661</td>\n",
              "      <td>9</td>\n",
              "      <td>34.457024</td>\n",
              "      <td>8.565285</td>\n",
              "    </tr>\n",
              "    <tr>\n",
              "      <th>351</th>\n",
              "      <td>Forrest Gump</td>\n",
              "      <td>1994</td>\n",
              "      <td>8147</td>\n",
              "      <td>8</td>\n",
              "      <td>48.307194</td>\n",
              "      <td>7.971357</td>\n",
              "    </tr>\n",
              "    <tr>\n",
              "      <th>876</th>\n",
              "      <td>Vertigo</td>\n",
              "      <td>1958</td>\n",
              "      <td>1162</td>\n",
              "      <td>8</td>\n",
              "      <td>18.20822</td>\n",
              "      <td>7.811667</td>\n",
              "    </tr>\n",
              "    <tr>\n",
              "      <th>40251</th>\n",
              "      <td>Your Name.</td>\n",
              "      <td>2016</td>\n",
              "      <td>1030</td>\n",
              "      <td>8</td>\n",
              "      <td>34.461252</td>\n",
              "      <td>7.789489</td>\n",
              "    </tr>\n",
              "    <tr>\n",
              "      <th>883</th>\n",
              "      <td>Some Like It Hot</td>\n",
              "      <td>1959</td>\n",
              "      <td>835</td>\n",
              "      <td>8</td>\n",
              "      <td>11.845107</td>\n",
              "      <td>7.745154</td>\n",
              "    </tr>\n",
              "    <tr>\n",
              "      <th>1132</th>\n",
              "      <td>Cinema Paradiso</td>\n",
              "      <td>1988</td>\n",
              "      <td>834</td>\n",
              "      <td>8</td>\n",
              "      <td>14.177005</td>\n",
              "      <td>7.744878</td>\n",
              "    </tr>\n",
              "    <tr>\n",
              "      <th>19901</th>\n",
              "      <td>Paperman</td>\n",
              "      <td>2012</td>\n",
              "      <td>734</td>\n",
              "      <td>8</td>\n",
              "      <td>7.198633</td>\n",
              "      <td>7.713951</td>\n",
              "    </tr>\n",
              "    <tr>\n",
              "      <th>37863</th>\n",
              "      <td>Sing Street</td>\n",
              "      <td>2016</td>\n",
              "      <td>669</td>\n",
              "      <td>8</td>\n",
              "      <td>10.672862</td>\n",
              "      <td>7.689483</td>\n",
              "    </tr>\n",
              "    <tr>\n",
              "      <th>882</th>\n",
              "      <td>The Apartment</td>\n",
              "      <td>1960</td>\n",
              "      <td>498</td>\n",
              "      <td>8</td>\n",
              "      <td>11.994281</td>\n",
              "      <td>7.599317</td>\n",
              "    </tr>\n",
              "    <tr>\n",
              "      <th>38718</th>\n",
              "      <td>The Handmaiden</td>\n",
              "      <td>2016</td>\n",
              "      <td>453</td>\n",
              "      <td>8</td>\n",
              "      <td>16.727405</td>\n",
              "      <td>7.566166</td>\n",
              "    </tr>\n",
              "    <tr>\n",
              "      <th>3189</th>\n",
              "      <td>City Lights</td>\n",
              "      <td>1931</td>\n",
              "      <td>444</td>\n",
              "      <td>8</td>\n",
              "      <td>10.891524</td>\n",
              "      <td>7.558867</td>\n",
              "    </tr>\n",
              "    <tr>\n",
              "      <th>24886</th>\n",
              "      <td>The Way He Looks</td>\n",
              "      <td>2014</td>\n",
              "      <td>262</td>\n",
              "      <td>8</td>\n",
              "      <td>5.711274</td>\n",
              "      <td>7.331363</td>\n",
              "    </tr>\n",
              "    <tr>\n",
              "      <th>45437</th>\n",
              "      <td>In a Heartbeat</td>\n",
              "      <td>2017</td>\n",
              "      <td>146</td>\n",
              "      <td>8</td>\n",
              "      <td>20.82178</td>\n",
              "      <td>7.003959</td>\n",
              "    </tr>\n",
              "    <tr>\n",
              "      <th>1639</th>\n",
              "      <td>Titanic</td>\n",
              "      <td>1997</td>\n",
              "      <td>7770</td>\n",
              "      <td>7</td>\n",
              "      <td>26.88907</td>\n",
              "      <td>6.981546</td>\n",
              "    </tr>\n",
              "    <tr>\n",
              "      <th>19731</th>\n",
              "      <td>Silver Linings Playbook</td>\n",
              "      <td>2012</td>\n",
              "      <td>4840</td>\n",
              "      <td>7</td>\n",
              "      <td>14.488111</td>\n",
              "      <td>6.970581</td>\n",
              "    </tr>\n",
              "  </tbody>\n",
              "</table>\n",
              "</div>\n",
              "    <div class=\"colab-df-buttons\">\n",
              "      \n",
              "  <div class=\"colab-df-container\">\n",
              "    <button class=\"colab-df-convert\" onclick=\"convertToInteractive('df-c583e103-bbd3-40a7-9ec0-f971387f0dff')\"\n",
              "            title=\"Convert this dataframe to an interactive table.\"\n",
              "            style=\"display:none;\">\n",
              "      \n",
              "  <svg xmlns=\"http://www.w3.org/2000/svg\" height=\"24px\" viewBox=\"0 -960 960 960\">\n",
              "    <path d=\"M120-120v-720h720v720H120Zm60-500h600v-160H180v160Zm220 220h160v-160H400v160Zm0 220h160v-160H400v160ZM180-400h160v-160H180v160Zm440 0h160v-160H620v160ZM180-180h160v-160H180v160Zm440 0h160v-160H620v160Z\"/>\n",
              "  </svg>\n",
              "    </button>\n",
              "    \n",
              "  <style>\n",
              "    .colab-df-container {\n",
              "      display:flex;\n",
              "      gap: 12px;\n",
              "    }\n",
              "\n",
              "    .colab-df-convert {\n",
              "      background-color: #E8F0FE;\n",
              "      border: none;\n",
              "      border-radius: 50%;\n",
              "      cursor: pointer;\n",
              "      display: none;\n",
              "      fill: #1967D2;\n",
              "      height: 32px;\n",
              "      padding: 0 0 0 0;\n",
              "      width: 32px;\n",
              "    }\n",
              "\n",
              "    .colab-df-convert:hover {\n",
              "      background-color: #E2EBFA;\n",
              "      box-shadow: 0px 1px 2px rgba(60, 64, 67, 0.3), 0px 1px 3px 1px rgba(60, 64, 67, 0.15);\n",
              "      fill: #174EA6;\n",
              "    }\n",
              "\n",
              "    .colab-df-buttons div {\n",
              "      margin-bottom: 4px;\n",
              "    }\n",
              "\n",
              "    [theme=dark] .colab-df-convert {\n",
              "      background-color: #3B4455;\n",
              "      fill: #D2E3FC;\n",
              "    }\n",
              "\n",
              "    [theme=dark] .colab-df-convert:hover {\n",
              "      background-color: #434B5C;\n",
              "      box-shadow: 0px 1px 3px 1px rgba(0, 0, 0, 0.15);\n",
              "      filter: drop-shadow(0px 1px 2px rgba(0, 0, 0, 0.3));\n",
              "      fill: #FFFFFF;\n",
              "    }\n",
              "  </style>\n",
              "\n",
              "    <script>\n",
              "      const buttonEl =\n",
              "        document.querySelector('#df-c583e103-bbd3-40a7-9ec0-f971387f0dff button.colab-df-convert');\n",
              "      buttonEl.style.display =\n",
              "        google.colab.kernel.accessAllowed ? 'block' : 'none';\n",
              "\n",
              "      async function convertToInteractive(key) {\n",
              "        const element = document.querySelector('#df-c583e103-bbd3-40a7-9ec0-f971387f0dff');\n",
              "        const dataTable =\n",
              "          await google.colab.kernel.invokeFunction('convertToInteractive',\n",
              "                                                    [key], {});\n",
              "        if (!dataTable) return;\n",
              "\n",
              "        const docLinkHtml = 'Like what you see? Visit the ' +\n",
              "          '<a target=\"_blank\" href=https://colab.research.google.com/notebooks/data_table.ipynb>data table notebook</a>'\n",
              "          + ' to learn more about interactive tables.';\n",
              "        element.innerHTML = '';\n",
              "        dataTable['output_type'] = 'display_data';\n",
              "        await google.colab.output.renderOutput(dataTable, element);\n",
              "        const docLink = document.createElement('div');\n",
              "        docLink.innerHTML = docLinkHtml;\n",
              "        element.appendChild(docLink);\n",
              "      }\n",
              "    </script>\n",
              "  </div>\n",
              "  \n",
              "    </div>\n",
              "  </div>\n",
              "  "
            ]
          },
          "metadata": {},
          "execution_count": 51
        }
      ],
      "execution_count": 51,
      "source": [
        "build_chart('Romance').head(15)"
      ],
      "metadata": {
        "_uuid": "bf2816495a16de1bb84dc826fd33eee7e663f45d",
        "_cell_guid": "af61da24-494b-48ac-b7b7-64ec0eaedaf8",
        "id": "wEUD21pVygf3",
        "colab": {
          "base_uri": "https://localhost:8080/",
          "height": 514
        },
        "outputId": "bf5cca27-1a7b-4d42-a1d2-c7b6b3f4c56e"
      },
      "cell_type": "code"
    },
    {
      "source": [
        "The top romance movie according to our metrics is Bollywood's **Dilwale Dulhania Le Jayenge**. This Shahrukh Khan starrer also happens to be one of my personal favorites."
      ],
      "metadata": {
        "_uuid": "8ffeb5a436b6df369c408c20ba2d6d2b6bfee61b",
        "_cell_guid": "b14398c0-cf96-42ec-a12e-84d98231512a",
        "id": "P5Ko7sCpygf4"
      },
      "cell_type": "markdown"
    },
    {
      "source": [
        "## Content Based Recommender\n",
        "\n",
        "The recommender we built in the previous section suffers some severe limitations. For one, it gives the same recommendation to everyone, regardless of the user's personal taste. If a person who loves romantic movies (and hates action) were to look at our Top 15 Chart, s/he wouldn't probably like most of the movies. If s/he were to go one step further and look at our charts by genre, s/he wouldn't still be getting the best recommendations.\n",
        "\n",
        "For instance, consider a person who loves *Dilwale Dulhania Le Jayenge*, *My Name is Khan* and *Kabhi Khushi Kabhi Gham*. One inference we can obtain is that the person loves the actor Shahrukh Khan and the director Karan Johar. Even if s/he were to access the romance chart, s/he wouldn't find these as the top recommendations.\n",
        "\n",
        "To personalise our recommendations more, I am going to build an engine that computes similarity between movies based on certain metrics and suggests movies that are most similar to a particular movie that a user liked. Since we will be using movie metadata (or content) to build this engine, this also known as **Content Based Filtering.**\n",
        "\n",
        "I will build two Content Based Recommenders based on:\n",
        "* Movie Overviews and Taglines\n",
        "* Movie Cast, Crew, Keywords and Genre\n",
        "\n",
        "Also, as mentioned in the introduction, I will be using a subset of all the movies available to us due to limiting computing power available to me."
      ],
      "metadata": {
        "_uuid": "0b0f95bdf966d06c2d7053535d46183b03a75cc1",
        "_cell_guid": "b6e1eb8b-6109-40ff-ab8a-37bd047c03ac",
        "id": "Ov_XZ3tHygf4"
      },
      "cell_type": "markdown"
    },
    {
      "outputs": [],
      "execution_count": 55,
      "source": [
        "links_small = pd.read_csv('/content/links_small.csv')\n",
        "links_small = links_small[links_small['tmdbId'].notnull()]['tmdbId'].astype('int')"
      ],
      "metadata": {
        "_uuid": "dc237e14c8346bdd51624d21b6b082399afd3062",
        "_cell_guid": "bd5f4440-f90d-46a4-8640-204541d99d40",
        "collapsed": true,
        "id": "7GTDOf-dygf4"
      },
      "cell_type": "code"
    },
    {
      "outputs": [],
      "execution_count": 56,
      "source": [
        "md = md.drop([19730, 29503, 35587])"
      ],
      "metadata": {
        "_uuid": "6c5af69fefa991d46594401a5eac0656e5980484",
        "_cell_guid": "cda91291-c8d5-475a-8b0f-ab4030d29f62",
        "collapsed": true,
        "id": "ookCwaxIygf4"
      },
      "cell_type": "code"
    },
    {
      "outputs": [],
      "execution_count": 57,
      "source": [
        "#Check EDA Notebook for how and why I got these indices.\n",
        "md['id'] = md['id'].astype('int')"
      ],
      "metadata": {
        "_uuid": "87eb84540a3c22a3f7bf54edeee5b491ef571416",
        "_cell_guid": "f68cb861-7c30-4b3d-b655-520379e61d70",
        "collapsed": true,
        "id": "sA52sIcFygf5"
      },
      "cell_type": "code"
    },
    {
      "outputs": [
        {
          "output_type": "execute_result",
          "data": {
            "text/plain": [
              "(9099, 24)"
            ]
          },
          "metadata": {},
          "execution_count": 58
        }
      ],
      "execution_count": 58,
      "source": [
        "smd = md[md['id'].isin(links_small)]\n",
        "smd.shape"
      ],
      "metadata": {
        "_uuid": "3f2a7f55a030beeb06b713f854e4ca6a69b5ca13",
        "_cell_guid": "0b968a6a-6b0d-4df6-9e28-91c06e6c36c2",
        "id": "OKJ97PdKygf5",
        "colab": {
          "base_uri": "https://localhost:8080/"
        },
        "outputId": "8ca85ac3-2417-443e-ab51-78736f2a0768"
      },
      "cell_type": "code"
    },
    {
      "source": [
        "We have **9099** movies avaiable in our small movies metadata dataset which is 5 times smaller than our original dataset of 45000 movies."
      ],
      "metadata": {
        "_uuid": "1ebd72fcc46ac2ac20016ff34dad40a9f8879ac9",
        "_cell_guid": "0f9e6043-68e8-4b0c-a435-e456e19e9144",
        "id": "REm_nJPjygf5"
      },
      "cell_type": "markdown"
    },
    {
      "source": [
        "### Movie Description Based Recommender\n",
        "\n",
        "Let us first try to build a recommender using movie descriptions and taglines. We do not have a quantitative metric to judge our machine's performance so this will have to be done qualitatively."
      ],
      "metadata": {
        "_uuid": "c41800b7a9d8b8d48ba1c22b8430929f54e9884e",
        "_cell_guid": "1e73645a-0b0b-441f-93b4-ce92069e1852",
        "id": "4iZR3lC1ygf5"
      },
      "cell_type": "markdown"
    },
    {
      "outputs": [],
      "execution_count": 59,
      "source": [
        "smd['tagline'] = smd['tagline'].fillna('')\n",
        "smd['description'] = smd['overview'] + smd['tagline']\n",
        "smd['description'] = smd['description'].fillna('')"
      ],
      "metadata": {
        "_uuid": "453bdc941ba5a1e86e17b0f106dc44040c0defdf",
        "_cell_guid": "c880adf9-051b-40cd-8e95-cd8c4acabb17",
        "collapsed": true,
        "id": "jNVxJ2sBygf8"
      },
      "cell_type": "code"
    },
    {
      "outputs": [],
      "execution_count": 61,
      "source": [
        "tf = TfidfVectorizer(analyzer='word',ngram_range=(1, 2),min_df=0.0, stop_words='english')\n",
        "tfidf_matrix = tf.fit_transform(smd['description'])"
      ],
      "metadata": {
        "_uuid": "f9d99726d9f2667fa6fc15ce5c5e31d36a970828",
        "_cell_guid": "6b385623-a978-43c4-b66a-813d5e9c6790",
        "collapsed": true,
        "id": "ahix2zmRygf8"
      },
      "cell_type": "code"
    },
    {
      "outputs": [
        {
          "output_type": "execute_result",
          "data": {
            "text/plain": [
              "(9099, 268124)"
            ]
          },
          "metadata": {},
          "execution_count": 62
        }
      ],
      "execution_count": 62,
      "source": [
        "tfidf_matrix.shape"
      ],
      "metadata": {
        "_uuid": "6c21cc05d3c13ea637028f2e5836c719986e47c7",
        "_cell_guid": "5e18427c-2ef8-4a98-84e2-323a4af72ade",
        "id": "jV_bb3s_ygf9",
        "colab": {
          "base_uri": "https://localhost:8080/"
        },
        "outputId": "22cb07bb-a9af-4e62-eabb-f0c3a12a1623"
      },
      "cell_type": "code"
    },
    {
      "source": [
        "#### Cosine Similarity\n",
        "\n",
        "I will be using the Cosine Similarity to calculate a numeric quantity that denotes the similarity between two movies. Mathematically, it is defined as follows:\n",
        "\n",
        "$cosine(x,y) = \\frac{x. y^\\intercal}{||x||.||y||} $\n",
        "\n",
        "Since we have used the TF-IDF Vectorizer, calculating the Dot Product will directly give us the Cosine Similarity Score. Therefore, we will use sklearn's **linear_kernel** instead of cosine_similarities since it is much faster."
      ],
      "metadata": {
        "_uuid": "1a98e05af67de3475999e1891d965ce9f73ce316",
        "_cell_guid": "7d4db389-9f30-46e9-b8af-69fe9b40ada5",
        "id": "mDp6XoMsygf-"
      },
      "cell_type": "markdown"
    },
    {
      "outputs": [],
      "execution_count": 63,
      "source": [
        "cosine_sim = linear_kernel(tfidf_matrix, tfidf_matrix)"
      ],
      "metadata": {
        "_uuid": "e324c0e951287359f7810a3da85631ebc7725c53",
        "_cell_guid": "8b27b34f-a585-42bf-b35f-1de4e9181fce",
        "collapsed": true,
        "id": "mPWy7e9aygf-"
      },
      "cell_type": "code"
    },
    {
      "outputs": [
        {
          "output_type": "execute_result",
          "data": {
            "text/plain": [
              "array([1.        , 0.00680476, 0.        , ..., 0.        , 0.00344913,\n",
              "       0.        ])"
            ]
          },
          "metadata": {},
          "execution_count": 64
        }
      ],
      "execution_count": 64,
      "source": [
        "cosine_sim[0]"
      ],
      "metadata": {
        "_uuid": "ebb6823a9dce997d965dc89049a06512cbfb17af",
        "_cell_guid": "148a994f-3e7f-4350-9ea3-41eb95f106e8",
        "id": "0MzlezILygf_",
        "colab": {
          "base_uri": "https://localhost:8080/"
        },
        "outputId": "56b0b857-f1e9-4e9c-f883-9c9753fa74f3"
      },
      "cell_type": "code"
    },
    {
      "source": [
        "We now have a pairwise cosine similarity matrix for all the movies in our dataset. The next step is to write a function that returns the 30 most similar movies based on the cosine similarity score."
      ],
      "metadata": {
        "_uuid": "b7a65051edc24edfe6e2afaf3a9c3a148af5bcaf",
        "_cell_guid": "f4001114-a1c6-4762-b0cf-64eb4f2658ac",
        "id": "z978MMNkygf_"
      },
      "cell_type": "markdown"
    },
    {
      "outputs": [],
      "execution_count": 65,
      "source": [
        "smd = smd.reset_index()\n",
        "titles = smd['title']\n",
        "indices = pd.Series(smd.index, index=smd['title'])"
      ],
      "metadata": {
        "_uuid": "ff016d61895e99fe7b0495c51b86917bdbe2712d",
        "_cell_guid": "446d22fd-e7c1-42a6-851b-593f60175ce0",
        "collapsed": true,
        "id": "knsm29ohyggA"
      },
      "cell_type": "code"
    },
    {
      "outputs": [],
      "execution_count": 66,
      "source": [
        "def get_recommendations(title):\n",
        "    idx = indices[title]\n",
        "    sim_scores = list(enumerate(cosine_sim[idx]))\n",
        "    sim_scores = sorted(sim_scores, key=lambda x: x[1], reverse=True)\n",
        "    sim_scores = sim_scores[1:31]\n",
        "    movie_indices = [i[0] for i in sim_scores]\n",
        "    return titles.iloc[movie_indices]"
      ],
      "metadata": {
        "_uuid": "62f49212a8b935ef63a3643e1bb6f629521f05b7",
        "_cell_guid": "d7352ae7-fbc3-4459-b257-76a44000ce6a",
        "collapsed": true,
        "id": "7kQRJadAyggA"
      },
      "cell_type": "code"
    },
    {
      "source": [
        "We're all set. Let us now try and get the top recommendations for a few movies and see how good the recommendations are."
      ],
      "metadata": {
        "_uuid": "8960b80c95e09e6b4e328872efebd2e4ee711df2",
        "_cell_guid": "e8c1e16a-a1ab-4cae-916b-dcdc2ebaf9a9",
        "id": "EnrwQr3pyggA"
      },
      "cell_type": "markdown"
    },
    {
      "outputs": [
        {
          "output_type": "execute_result",
          "data": {
            "text/plain": [
              "973      The Godfather: Part II\n",
              "8387                 The Family\n",
              "3509                       Made\n",
              "4196         Johnny Dangerously\n",
              "29               Shanghai Triad\n",
              "5667                       Fury\n",
              "2412             American Movie\n",
              "1582    The Godfather: Part III\n",
              "4221                    8 Women\n",
              "2159              Summer of Sam\n",
              "Name: title, dtype: object"
            ],
            "text/html": [
              "<div>\n",
              "<style scoped>\n",
              "    .dataframe tbody tr th:only-of-type {\n",
              "        vertical-align: middle;\n",
              "    }\n",
              "\n",
              "    .dataframe tbody tr th {\n",
              "        vertical-align: top;\n",
              "    }\n",
              "\n",
              "    .dataframe thead th {\n",
              "        text-align: right;\n",
              "    }\n",
              "</style>\n",
              "<table border=\"1\" class=\"dataframe\">\n",
              "  <thead>\n",
              "    <tr style=\"text-align: right;\">\n",
              "      <th></th>\n",
              "      <th>title</th>\n",
              "    </tr>\n",
              "  </thead>\n",
              "  <tbody>\n",
              "    <tr>\n",
              "      <th>973</th>\n",
              "      <td>The Godfather: Part II</td>\n",
              "    </tr>\n",
              "    <tr>\n",
              "      <th>8387</th>\n",
              "      <td>The Family</td>\n",
              "    </tr>\n",
              "    <tr>\n",
              "      <th>3509</th>\n",
              "      <td>Made</td>\n",
              "    </tr>\n",
              "    <tr>\n",
              "      <th>4196</th>\n",
              "      <td>Johnny Dangerously</td>\n",
              "    </tr>\n",
              "    <tr>\n",
              "      <th>29</th>\n",
              "      <td>Shanghai Triad</td>\n",
              "    </tr>\n",
              "    <tr>\n",
              "      <th>5667</th>\n",
              "      <td>Fury</td>\n",
              "    </tr>\n",
              "    <tr>\n",
              "      <th>2412</th>\n",
              "      <td>American Movie</td>\n",
              "    </tr>\n",
              "    <tr>\n",
              "      <th>1582</th>\n",
              "      <td>The Godfather: Part III</td>\n",
              "    </tr>\n",
              "    <tr>\n",
              "      <th>4221</th>\n",
              "      <td>8 Women</td>\n",
              "    </tr>\n",
              "    <tr>\n",
              "      <th>2159</th>\n",
              "      <td>Summer of Sam</td>\n",
              "    </tr>\n",
              "  </tbody>\n",
              "</table>\n",
              "</div><br><label><b>dtype:</b> object</label>"
            ]
          },
          "metadata": {},
          "execution_count": 67
        }
      ],
      "execution_count": 67,
      "source": [
        "get_recommendations('The Godfather').head(10)"
      ],
      "metadata": {
        "_uuid": "46f418fd12b35e86a7a2026ef1975be822cadde3",
        "_cell_guid": "73bb1266-5797-47ce-b61f-fa9e0d7ce077",
        "id": "3MD-gAPwyggA",
        "colab": {
          "base_uri": "https://localhost:8080/",
          "height": 393
        },
        "outputId": "c37f03c0-8d2e-466a-f99e-cb303457c20f"
      },
      "cell_type": "code"
    },
    {
      "outputs": [
        {
          "output_type": "execute_result",
          "data": {
            "text/plain": [
              "7931                      The Dark Knight Rises\n",
              "132                              Batman Forever\n",
              "1113                             Batman Returns\n",
              "8227    Batman: The Dark Knight Returns, Part 2\n",
              "7565                 Batman: Under the Red Hood\n",
              "524                                      Batman\n",
              "7901                           Batman: Year One\n",
              "2579               Batman: Mask of the Phantasm\n",
              "2696                                        JFK\n",
              "8165    Batman: The Dark Knight Returns, Part 1\n",
              "Name: title, dtype: object"
            ],
            "text/html": [
              "<div>\n",
              "<style scoped>\n",
              "    .dataframe tbody tr th:only-of-type {\n",
              "        vertical-align: middle;\n",
              "    }\n",
              "\n",
              "    .dataframe tbody tr th {\n",
              "        vertical-align: top;\n",
              "    }\n",
              "\n",
              "    .dataframe thead th {\n",
              "        text-align: right;\n",
              "    }\n",
              "</style>\n",
              "<table border=\"1\" class=\"dataframe\">\n",
              "  <thead>\n",
              "    <tr style=\"text-align: right;\">\n",
              "      <th></th>\n",
              "      <th>title</th>\n",
              "    </tr>\n",
              "  </thead>\n",
              "  <tbody>\n",
              "    <tr>\n",
              "      <th>7931</th>\n",
              "      <td>The Dark Knight Rises</td>\n",
              "    </tr>\n",
              "    <tr>\n",
              "      <th>132</th>\n",
              "      <td>Batman Forever</td>\n",
              "    </tr>\n",
              "    <tr>\n",
              "      <th>1113</th>\n",
              "      <td>Batman Returns</td>\n",
              "    </tr>\n",
              "    <tr>\n",
              "      <th>8227</th>\n",
              "      <td>Batman: The Dark Knight Returns, Part 2</td>\n",
              "    </tr>\n",
              "    <tr>\n",
              "      <th>7565</th>\n",
              "      <td>Batman: Under the Red Hood</td>\n",
              "    </tr>\n",
              "    <tr>\n",
              "      <th>524</th>\n",
              "      <td>Batman</td>\n",
              "    </tr>\n",
              "    <tr>\n",
              "      <th>7901</th>\n",
              "      <td>Batman: Year One</td>\n",
              "    </tr>\n",
              "    <tr>\n",
              "      <th>2579</th>\n",
              "      <td>Batman: Mask of the Phantasm</td>\n",
              "    </tr>\n",
              "    <tr>\n",
              "      <th>2696</th>\n",
              "      <td>JFK</td>\n",
              "    </tr>\n",
              "    <tr>\n",
              "      <th>8165</th>\n",
              "      <td>Batman: The Dark Knight Returns, Part 1</td>\n",
              "    </tr>\n",
              "  </tbody>\n",
              "</table>\n",
              "</div><br><label><b>dtype:</b> object</label>"
            ]
          },
          "metadata": {},
          "execution_count": 68
        }
      ],
      "execution_count": 68,
      "source": [
        "get_recommendations('The Dark Knight').head(10)"
      ],
      "metadata": {
        "_uuid": "f92e310b0225b4a1b8b46e8a87fe2f2b82c158ed",
        "_cell_guid": "d074112e-79ea-4188-a1e0-addd9bed3c91",
        "id": "pJlv-j2ryggC",
        "colab": {
          "base_uri": "https://localhost:8080/",
          "height": 393
        },
        "outputId": "4f4ccb98-c929-48c8-bf54-257c765fdff2"
      },
      "cell_type": "code"
    },
    {
      "source": [
        "We see that for **The Dark Knight**, our system is able to identify it as a Batman film and subsequently recommend other Batman films as its top recommendations. But unfortunately, that is all this system can do at the moment. This is not of much use to most people as it doesn't take into considerations very important features such as cast, crew, director and genre, which determine the rating and the popularity of a movie. Someone who liked **The Dark Knight** probably likes it more because of Nolan and would hate **Batman Forever** and every other substandard movie in the Batman Franchise.\n",
        "\n",
        "Therefore, we are going to use much more suggestive metadata than **Overview** and **Tagline**. In the next subsection, we will build a more sophisticated recommender that takes **genre**, **keywords**, **cast** and **crew** into consideration."
      ],
      "metadata": {
        "_uuid": "f38218c5d4f07d6d9439adbab468c51430157103",
        "_cell_guid": "a9fd334d-e890-4125-9d48-b79babd194d2",
        "id": "6tcERRpCyggC"
      },
      "cell_type": "markdown"
    },
    {
      "source": [
        "### Metadata Based Recommender\n",
        "\n",
        "To build our standard metadata based content recommender, we will need to merge our current dataset with the crew and the keyword datasets. Let us prepare this data as our first step."
      ],
      "metadata": {
        "_uuid": "4089c7bcdf984e596e80d2fc6c2a74fe8c05a41f",
        "_cell_guid": "3a0dd8ba-a580-4c12-95eb-ca04e2191b35",
        "id": "DDQKssIZyggD"
      },
      "cell_type": "markdown"
    },
    {
      "outputs": [],
      "execution_count": 69,
      "source": [
        "credits = pd.read_csv('/content/credits.csv')\n",
        "keywords = pd.read_csv('/content/keywords.csv')"
      ],
      "metadata": {
        "_uuid": "aa399813ff512b0d7671e9bfcebf7f41ee139275",
        "_cell_guid": "85d2d5e0-165a-4ad5-860d-be1d1aa20c59",
        "collapsed": true,
        "id": "sAw0q2BxyggD"
      },
      "cell_type": "code"
    },
    {
      "outputs": [],
      "execution_count": 70,
      "source": [
        "keywords['id'] = keywords['id'].astype('int')\n",
        "credits['id'] = credits['id'].astype('int')\n",
        "md['id'] = md['id'].astype('int')"
      ],
      "metadata": {
        "_uuid": "e82eb38c3ae53d500ad335943b4bd30a19f22d1a",
        "_cell_guid": "5dc74705-17ee-41b8-932b-dc612c9426c5",
        "collapsed": true,
        "id": "wEW6dD_jyggD"
      },
      "cell_type": "code"
    },
    {
      "outputs": [
        {
          "output_type": "execute_result",
          "data": {
            "text/plain": [
              "(45463, 24)"
            ]
          },
          "metadata": {},
          "execution_count": 71
        }
      ],
      "execution_count": 71,
      "source": [
        "md.shape"
      ],
      "metadata": {
        "_uuid": "2f9fc363f77649b3ee41132e0b45f366726a25cb",
        "_cell_guid": "a120fca0-7236-4b97-97f8-970363ed02ed",
        "id": "Vyv2WVVUyggD",
        "colab": {
          "base_uri": "https://localhost:8080/"
        },
        "outputId": "d23e1b20-7285-43fa-9863-6d2e3cf9929b"
      },
      "cell_type": "code"
    },
    {
      "outputs": [],
      "execution_count": 72,
      "source": [
        "md = md.merge(credits, on='id')\n",
        "md = md.merge(keywords, on='id')"
      ],
      "metadata": {
        "_uuid": "4b1ebc18f31eb017c6f4f173ab270807c73c002a",
        "_cell_guid": "39fbbbcd-a0d9-4ad3-9187-e6e2bdb4358e",
        "collapsed": true,
        "id": "n_VyONjwyggD"
      },
      "cell_type": "code"
    },
    {
      "outputs": [
        {
          "output_type": "execute_result",
          "data": {
            "text/plain": [
              "(9219, 27)"
            ]
          },
          "metadata": {},
          "execution_count": 73
        }
      ],
      "execution_count": 73,
      "source": [
        "smd = md[md['id'].isin(links_small)]\n",
        "smd.shape"
      ],
      "metadata": {
        "_uuid": "a017f13dce80c88ce2f9fc0d63c374c93e827baa",
        "_cell_guid": "ecdbd741-d8b1-4083-ba26-6c347915f16d",
        "id": "veSI1YSFyggE",
        "colab": {
          "base_uri": "https://localhost:8080/"
        },
        "outputId": "00bb5fb6-71fd-48f3-c6c1-7452c50e2482"
      },
      "cell_type": "code"
    },
    {
      "source": [
        "We now have our cast, crew, genres and credits, all in one dataframe. Let us wrangle this a little more using the following intuitions:\n",
        "\n",
        "1. **Crew:** From the crew, we will only pick the director as our feature since the others don't contribute that much to the *feel* of the movie.\n",
        "2. **Cast:** Choosing Cast is a little more tricky. Lesser known actors and minor roles do not really affect people's opinion of a movie. Therefore, we must only select the major characters and their respective actors. Arbitrarily we will choose the top 3 actors that appear in the credits list."
      ],
      "metadata": {
        "_uuid": "8e2c893fd842164c99b1be3f84f11fac3adab387",
        "_cell_guid": "5932e964-9f33-4cac-b90c-d6a116c8c463",
        "id": "6NFTj-wRyggE"
      },
      "cell_type": "markdown"
    },
    {
      "outputs": [],
      "execution_count": 74,
      "source": [
        "smd['cast'] = smd['cast'].apply(literal_eval)\n",
        "smd['crew'] = smd['crew'].apply(literal_eval)\n",
        "smd['keywords'] = smd['keywords'].apply(literal_eval)\n",
        "smd['cast_size'] = smd['cast'].apply(lambda x: len(x))\n",
        "smd['crew_size'] = smd['crew'].apply(lambda x: len(x))"
      ],
      "metadata": {
        "_uuid": "7ff7d25e2c175f2d71e02cf408ed113e10a148f1",
        "_cell_guid": "6c221b12-c5fd-4eb6-b61a-b7d3f395d2ab",
        "collapsed": true,
        "id": "Udgnc5x0yggE"
      },
      "cell_type": "code"
    },
    {
      "outputs": [],
      "execution_count": 75,
      "source": [
        "def get_director(x):\n",
        "    for i in x:\n",
        "        if i['job'] == 'Director':\n",
        "            return i['name']\n",
        "    return np.nan"
      ],
      "metadata": {
        "_uuid": "4207baed79a12ab3314fc816076bbff032d3e186",
        "_cell_guid": "0e19fe24-e206-4743-a96c-fb828707c74d",
        "collapsed": true,
        "id": "z-m_ntbRyggE"
      },
      "cell_type": "code"
    },
    {
      "outputs": [],
      "execution_count": 76,
      "source": [
        "smd['director'] = smd['crew'].apply(get_director)"
      ],
      "metadata": {
        "_uuid": "64c84be00eb7eb7c0b9c4d9a1605e247c11ce2c6",
        "_cell_guid": "d4468b32-a67e-4e31-bd56-1f4467884d1d",
        "collapsed": true,
        "id": "DRG05Si-yggG"
      },
      "cell_type": "code"
    },
    {
      "outputs": [],
      "execution_count": 77,
      "source": [
        "smd['cast'] = smd['cast'].apply(lambda x: [i['name'] for i in x] if isinstance(x, list) else [])\n",
        "smd['cast'] = smd['cast'].apply(lambda x: x[:3] if len(x) >=3 else x)"
      ],
      "metadata": {
        "_uuid": "fd58e3dc015c81678ca1181a8de9c6e967ffdb22",
        "_cell_guid": "cc3ff524-20c5-478c-b45e-9875c473e48b",
        "collapsed": true,
        "id": "V57vzecDyggG"
      },
      "cell_type": "code"
    },
    {
      "outputs": [],
      "execution_count": 78,
      "source": [
        "smd['keywords'] = smd['keywords'].apply(lambda x: [i['name'] for i in x] if isinstance(x, list) else [])"
      ],
      "metadata": {
        "_uuid": "16c1509135d80d41051b8fb46ded3a6aad67e8f0",
        "_cell_guid": "2768dfe6-303a-4f88-81be-39b91c675202",
        "collapsed": true,
        "id": "u-cLkepIyggG"
      },
      "cell_type": "code"
    },
    {
      "source": [
        "My approach to building the recommender is going to be extremely *hacky*. What I plan on doing is creating a metadata dump for every movie which consists of **genres, director, main actors and keywords.** I then use a **Count Vectorizer** to create our count matrix as we did in the Description Recommender. The remaining steps are similar to what we did earlier: we calculate the cosine similarities and return movies that are most similar.\n",
        "\n",
        "These are steps I follow in the preparation of my genres and credits data:\n",
        "1. **Strip Spaces and Convert to Lowercase** from all our features. This way, our engine will not confuse between **Johnny Depp** and **Johnny Galecki.**\n",
        "2. **Mention Director 3 times** to give it more weight relative to the entire cast."
      ],
      "metadata": {
        "_uuid": "ac9eb7bb4b74983b9c649013b7cdc6ebbb78af23",
        "_cell_guid": "9f2cbd6e-3729-4316-bb4a-1bcd092f19ff",
        "id": "Vopm18ODyggG"
      },
      "cell_type": "markdown"
    },
    {
      "outputs": [],
      "execution_count": 79,
      "source": [
        "smd['cast'] = smd['cast'].apply(lambda x: [str.lower(i.replace(\" \", \"\")) for i in x])"
      ],
      "metadata": {
        "_uuid": "01d86674d50b903fedc79750c4031ca88a739449",
        "_cell_guid": "6c5ffd70-ef6b-4fd0-be3d-b3c6a0d72df0",
        "collapsed": true,
        "id": "Zb1vPd59yggH"
      },
      "cell_type": "code"
    },
    {
      "outputs": [],
      "execution_count": 80,
      "source": [
        "smd['director'] = smd['director'].astype('str').apply(lambda x: str.lower(x.replace(\" \", \"\")))\n",
        "smd['director'] = smd['director'].apply(lambda x: [x,x, x])"
      ],
      "metadata": {
        "_uuid": "7e16f8b131ff73d33463fd070774a24a5ce474df",
        "_cell_guid": "5c1377ba-aad0-4a3f-8bcb-063c9c93f087",
        "collapsed": true,
        "id": "xF98_SywyggH"
      },
      "cell_type": "code"
    },
    {
      "source": [
        "#### Keywords\n",
        "\n",
        "We will do a small amount of pre-processing of our keywords before putting them to any use. As a first step, we calculate the frequenct counts of every keyword that appears in the dataset."
      ],
      "metadata": {
        "_uuid": "feac137ab3987ade6ae3b041c6cbec3bf4364e66",
        "_cell_guid": "5ea1aabb-a885-4dfe-a85e-0e31fd76558f",
        "id": "5J82xLrmyggH"
      },
      "cell_type": "markdown"
    },
    {
      "outputs": [],
      "execution_count": 81,
      "source": [
        "s = smd.apply(lambda x: pd.Series(x['keywords']),axis=1).stack().reset_index(level=1, drop=True)\n",
        "s.name = 'keyword'"
      ],
      "metadata": {
        "_uuid": "5740d11531f7305f4edf13b0270dc014382a2b5c",
        "_cell_guid": "3dc8f545-4666-4cc0-8473-2870a69e7ff0",
        "collapsed": true,
        "id": "vOqh2dxqyggH"
      },
      "cell_type": "code"
    },
    {
      "outputs": [
        {
          "output_type": "execute_result",
          "data": {
            "text/plain": [
              "keyword\n",
              "independent film        610\n",
              "woman director          550\n",
              "murder                  399\n",
              "duringcreditsstinger    327\n",
              "based on novel          318\n",
              "Name: count, dtype: int64"
            ],
            "text/html": [
              "<div>\n",
              "<style scoped>\n",
              "    .dataframe tbody tr th:only-of-type {\n",
              "        vertical-align: middle;\n",
              "    }\n",
              "\n",
              "    .dataframe tbody tr th {\n",
              "        vertical-align: top;\n",
              "    }\n",
              "\n",
              "    .dataframe thead th {\n",
              "        text-align: right;\n",
              "    }\n",
              "</style>\n",
              "<table border=\"1\" class=\"dataframe\">\n",
              "  <thead>\n",
              "    <tr style=\"text-align: right;\">\n",
              "      <th></th>\n",
              "      <th>count</th>\n",
              "    </tr>\n",
              "    <tr>\n",
              "      <th>keyword</th>\n",
              "      <th></th>\n",
              "    </tr>\n",
              "  </thead>\n",
              "  <tbody>\n",
              "    <tr>\n",
              "      <th>independent film</th>\n",
              "      <td>610</td>\n",
              "    </tr>\n",
              "    <tr>\n",
              "      <th>woman director</th>\n",
              "      <td>550</td>\n",
              "    </tr>\n",
              "    <tr>\n",
              "      <th>murder</th>\n",
              "      <td>399</td>\n",
              "    </tr>\n",
              "    <tr>\n",
              "      <th>duringcreditsstinger</th>\n",
              "      <td>327</td>\n",
              "    </tr>\n",
              "    <tr>\n",
              "      <th>based on novel</th>\n",
              "      <td>318</td>\n",
              "    </tr>\n",
              "  </tbody>\n",
              "</table>\n",
              "</div><br><label><b>dtype:</b> int64</label>"
            ]
          },
          "metadata": {},
          "execution_count": 82
        }
      ],
      "execution_count": 82,
      "source": [
        "s = s.value_counts()\n",
        "s[:5]"
      ],
      "metadata": {
        "_uuid": "1374a54bff3f7f0fdc872bfebff9f81d1dfcea69",
        "_cell_guid": "21e684ab-f6d3-4014-a05a-c28f995b4972",
        "id": "AFK8bfxgyggH",
        "colab": {
          "base_uri": "https://localhost:8080/",
          "height": 269
        },
        "outputId": "647939d9-412a-42c7-9a25-423f9e13fd67"
      },
      "cell_type": "code"
    },
    {
      "source": [
        "Keywords occur in frequencies ranging from 1 to 610. We do not have any use for keywords that occur only once. Therefore, these can be safely removed. Finally, we will convert every word to its stem so that words such as *Dogs* and *Dog* are considered the same."
      ],
      "metadata": {
        "_uuid": "0ac999648a3085a98948ccf9ada187a9bb08eba3",
        "_cell_guid": "4277aa18-dc91-4836-9853-2c94624cc70d",
        "id": "hcfn44pUyggH"
      },
      "cell_type": "markdown"
    },
    {
      "outputs": [],
      "execution_count": 83,
      "source": [
        "s = s[s > 1]"
      ],
      "metadata": {
        "_uuid": "bf05fb571b1ee60335af20acb9cf5d7fee6254e8",
        "_cell_guid": "8cabd79b-dfab-46d8-922d-e204173d8103",
        "collapsed": true,
        "id": "Xs9eKe04yggI"
      },
      "cell_type": "code"
    },
    {
      "outputs": [
        {
          "output_type": "execute_result",
          "data": {
            "text/plain": [
              "'dog'"
            ],
            "application/vnd.google.colaboratory.intrinsic+json": {
              "type": "string"
            }
          },
          "metadata": {},
          "execution_count": 84
        }
      ],
      "execution_count": 84,
      "source": [
        "stemmer = SnowballStemmer('english')\n",
        "stemmer.stem('dogs')"
      ],
      "metadata": {
        "_uuid": "1d2a07e4de352df9d3e2230d36e691d166a1675c",
        "_cell_guid": "2d10427d-9339-46fa-b699-060b27d6d25f",
        "id": "Itsx1VJKyggI",
        "colab": {
          "base_uri": "https://localhost:8080/",
          "height": 35
        },
        "outputId": "086d260d-b406-4185-db0e-71afdbd265e7"
      },
      "cell_type": "code"
    },
    {
      "outputs": [],
      "execution_count": 85,
      "source": [
        "def filter_keywords(x):\n",
        "    words = []\n",
        "    for i in x:\n",
        "        if i in s:\n",
        "            words.append(i)\n",
        "    return words"
      ],
      "metadata": {
        "_uuid": "3bad77061d810e52b0d9fecfd26873c101167d00",
        "_cell_guid": "5379c8d7-42a5-471a-84f8-bbd6cadf2e5c",
        "collapsed": true,
        "id": "aINzbjUpyggI"
      },
      "cell_type": "code"
    },
    {
      "outputs": [],
      "execution_count": 86,
      "source": [
        "smd['keywords'] = smd['keywords'].apply(filter_keywords)\n",
        "smd['keywords'] = smd['keywords'].apply(lambda x: [stemmer.stem(i) for i in x])\n",
        "smd['keywords'] = smd['keywords'].apply(lambda x: [str.lower(i.replace(\" \", \"\")) for i in x])"
      ],
      "metadata": {
        "_uuid": "2a939eb8846871c606da0f654a1a9a978270e99f",
        "_cell_guid": "959063e5-841d-408a-a10e-1f1437756b7c",
        "collapsed": true,
        "id": "VxwBfxmdyggI"
      },
      "cell_type": "code"
    },
    {
      "outputs": [],
      "execution_count": 87,
      "source": [
        "smd['soup'] = smd['keywords'] + smd['cast'] + smd['director'] + smd['genres']\n",
        "smd['soup'] = smd['soup'].apply(lambda x: ' '.join(x))"
      ],
      "metadata": {
        "_uuid": "6ff4da392e31cf628f91dd244cc4e76d63c40601",
        "_cell_guid": "95c45262-2715-47b7-af65-1eb396c37d33",
        "collapsed": true,
        "id": "dCupBAGlyggI"
      },
      "cell_type": "code"
    },
    {
      "outputs": [],
      "execution_count": 89,
      "source": [
        "count = CountVectorizer(analyzer='word',ngram_range=(1, 2),min_df=0.0, stop_words='english')\n",
        "count_matrix = count.fit_transform(smd['soup'])"
      ],
      "metadata": {
        "_uuid": "c758030ce02bb4beed606e41a3e0a51b659768f0",
        "_cell_guid": "7f9aa1bc-351b-47a1-b909-0d87efe93adc",
        "collapsed": true,
        "id": "ep--O3q3yggI"
      },
      "cell_type": "code"
    },
    {
      "outputs": [],
      "execution_count": 90,
      "source": [
        "cosine_sim = cosine_similarity(count_matrix, count_matrix)"
      ],
      "metadata": {
        "_uuid": "defccf8a2c851672447b4f53ff1a8efddafccb33",
        "_cell_guid": "c462b8af-1eb8-499e-8e50-839811aebe9d",
        "collapsed": true,
        "id": "GaRiZH5XyggJ"
      },
      "cell_type": "code"
    },
    {
      "outputs": [],
      "execution_count": 91,
      "source": [
        "smd = smd.reset_index()\n",
        "titles = smd['title']\n",
        "indices = pd.Series(smd.index, index=smd['title'])"
      ],
      "metadata": {
        "_uuid": "ffa7edd804b3ea3065c6d428fbb613ae7cd203e3",
        "_cell_guid": "d7ee34aa-da42-46bb-93e5-51e893286353",
        "collapsed": true,
        "id": "wy6YCkOOyggJ"
      },
      "cell_type": "code"
    },
    {
      "source": [
        "We will reuse the get_recommendations function that we had written earlier. Since our cosine similarity scores have changed, we expect it to give us different (and probably better) results. Let us check for **The Dark Knight** again and see what recommendations I get this time around."
      ],
      "metadata": {
        "_uuid": "37e2da9e51efab9951e6061f677c5ffcad230782",
        "_cell_guid": "7f7ae1dc-41c0-4cd7-af41-74e6075b0d90",
        "id": "3g-wMTzZyggK"
      },
      "cell_type": "markdown"
    },
    {
      "outputs": [
        {
          "output_type": "execute_result",
          "data": {
            "text/plain": [
              "7991         The Dark Knight Rises\n",
              "6186                 Batman Begins\n",
              "6587                  The Prestige\n",
              "2077                     Following\n",
              "7608                     Inception\n",
              "4125                      Insomnia\n",
              "3373                       Memento\n",
              "8573                  Interstellar\n",
              "7619    Batman: Under the Red Hood\n",
              "1122                Batman Returns\n",
              "Name: title, dtype: object"
            ],
            "text/html": [
              "<div>\n",
              "<style scoped>\n",
              "    .dataframe tbody tr th:only-of-type {\n",
              "        vertical-align: middle;\n",
              "    }\n",
              "\n",
              "    .dataframe tbody tr th {\n",
              "        vertical-align: top;\n",
              "    }\n",
              "\n",
              "    .dataframe thead th {\n",
              "        text-align: right;\n",
              "    }\n",
              "</style>\n",
              "<table border=\"1\" class=\"dataframe\">\n",
              "  <thead>\n",
              "    <tr style=\"text-align: right;\">\n",
              "      <th></th>\n",
              "      <th>title</th>\n",
              "    </tr>\n",
              "  </thead>\n",
              "  <tbody>\n",
              "    <tr>\n",
              "      <th>7991</th>\n",
              "      <td>The Dark Knight Rises</td>\n",
              "    </tr>\n",
              "    <tr>\n",
              "      <th>6186</th>\n",
              "      <td>Batman Begins</td>\n",
              "    </tr>\n",
              "    <tr>\n",
              "      <th>6587</th>\n",
              "      <td>The Prestige</td>\n",
              "    </tr>\n",
              "    <tr>\n",
              "      <th>2077</th>\n",
              "      <td>Following</td>\n",
              "    </tr>\n",
              "    <tr>\n",
              "      <th>7608</th>\n",
              "      <td>Inception</td>\n",
              "    </tr>\n",
              "    <tr>\n",
              "      <th>4125</th>\n",
              "      <td>Insomnia</td>\n",
              "    </tr>\n",
              "    <tr>\n",
              "      <th>3373</th>\n",
              "      <td>Memento</td>\n",
              "    </tr>\n",
              "    <tr>\n",
              "      <th>8573</th>\n",
              "      <td>Interstellar</td>\n",
              "    </tr>\n",
              "    <tr>\n",
              "      <th>7619</th>\n",
              "      <td>Batman: Under the Red Hood</td>\n",
              "    </tr>\n",
              "    <tr>\n",
              "      <th>1122</th>\n",
              "      <td>Batman Returns</td>\n",
              "    </tr>\n",
              "  </tbody>\n",
              "</table>\n",
              "</div><br><label><b>dtype:</b> object</label>"
            ]
          },
          "metadata": {},
          "execution_count": 92
        }
      ],
      "execution_count": 92,
      "source": [
        "get_recommendations('The Dark Knight').head(10)"
      ],
      "metadata": {
        "_uuid": "f6e2b6b232e992c783150a0ac5a7038c6de6db37",
        "_cell_guid": "e755e943-495b-46df-983b-2f8ad80fcd6a",
        "id": "vF5H8dwEyggK",
        "colab": {
          "base_uri": "https://localhost:8080/",
          "height": 393
        },
        "outputId": "aec1718e-f912-4d60-ac9d-864c62c3fe9f"
      },
      "cell_type": "code"
    },
    {
      "source": [
        "I am much more satisfied with the results I get this time around. The recommendations seem to have recognized other Christopher Nolan movies (due to the high weightage given to director) and put them as top recommendations. I enjoyed watching **The Dark Knight** as well as some of the other ones in the list including **Batman Begins**, **The Prestige** and **The Dark Knight Rises**.\n",
        "\n",
        "We can of course experiment on this engine by trying out different weights for our features (directors, actors, genres), limiting the number of keywords that can be used in the soup, weighing genres based on their frequency, only showing movies with the same languages, etc."
      ],
      "metadata": {
        "_uuid": "65859bb4471fbd873df938ef77ed667cac10babc",
        "_cell_guid": "96c3a594-19de-4a38-a033-cbdd7d69aa4c",
        "id": "HUi8mtQMyggK"
      },
      "cell_type": "markdown"
    },
    {
      "source": [
        "Let me also get recommendations for another movie, **Mean Girls** which happens to be my girlfriend's favorite movie."
      ],
      "metadata": {
        "id": "W7dQe7plyggK"
      },
      "cell_type": "markdown"
    },
    {
      "outputs": [
        {
          "output_type": "execute_result",
          "data": {
            "text/plain": [
              "3311               Head Over Heels\n",
              "4735                 Freaky Friday\n",
              "1321              The House of Yes\n",
              "6245              Just Like Heaven\n",
              "7865         Mr. Popper's Penguins\n",
              "7292    Ghosts of Girlfriends Past\n",
              "6923     The Spiderwick Chronicles\n",
              "8855                      The DUFF\n",
              "6662         It's a Boy Girl Thing\n",
              "7333       I Love You, Beth Cooper\n",
              "Name: title, dtype: object"
            ],
            "text/html": [
              "<div>\n",
              "<style scoped>\n",
              "    .dataframe tbody tr th:only-of-type {\n",
              "        vertical-align: middle;\n",
              "    }\n",
              "\n",
              "    .dataframe tbody tr th {\n",
              "        vertical-align: top;\n",
              "    }\n",
              "\n",
              "    .dataframe thead th {\n",
              "        text-align: right;\n",
              "    }\n",
              "</style>\n",
              "<table border=\"1\" class=\"dataframe\">\n",
              "  <thead>\n",
              "    <tr style=\"text-align: right;\">\n",
              "      <th></th>\n",
              "      <th>title</th>\n",
              "    </tr>\n",
              "  </thead>\n",
              "  <tbody>\n",
              "    <tr>\n",
              "      <th>3311</th>\n",
              "      <td>Head Over Heels</td>\n",
              "    </tr>\n",
              "    <tr>\n",
              "      <th>4735</th>\n",
              "      <td>Freaky Friday</td>\n",
              "    </tr>\n",
              "    <tr>\n",
              "      <th>1321</th>\n",
              "      <td>The House of Yes</td>\n",
              "    </tr>\n",
              "    <tr>\n",
              "      <th>6245</th>\n",
              "      <td>Just Like Heaven</td>\n",
              "    </tr>\n",
              "    <tr>\n",
              "      <th>7865</th>\n",
              "      <td>Mr. Popper's Penguins</td>\n",
              "    </tr>\n",
              "    <tr>\n",
              "      <th>7292</th>\n",
              "      <td>Ghosts of Girlfriends Past</td>\n",
              "    </tr>\n",
              "    <tr>\n",
              "      <th>6923</th>\n",
              "      <td>The Spiderwick Chronicles</td>\n",
              "    </tr>\n",
              "    <tr>\n",
              "      <th>8855</th>\n",
              "      <td>The DUFF</td>\n",
              "    </tr>\n",
              "    <tr>\n",
              "      <th>6662</th>\n",
              "      <td>It's a Boy Girl Thing</td>\n",
              "    </tr>\n",
              "    <tr>\n",
              "      <th>7333</th>\n",
              "      <td>I Love You, Beth Cooper</td>\n",
              "    </tr>\n",
              "  </tbody>\n",
              "</table>\n",
              "</div><br><label><b>dtype:</b> object</label>"
            ]
          },
          "metadata": {},
          "execution_count": 93
        }
      ],
      "execution_count": 93,
      "source": [
        "get_recommendations('Mean Girls').head(10)"
      ],
      "metadata": {
        "_uuid": "688b323c3b96224127465e8d48e67688ba4be202",
        "_cell_guid": "ef4d3551-2c66-4732-9be1-10425962d5e9",
        "id": "HsuUD1wnyggK",
        "colab": {
          "base_uri": "https://localhost:8080/",
          "height": 393
        },
        "outputId": "e535da15-4f03-4b30-b571-d54451eb36fd"
      },
      "cell_type": "code"
    },
    {
      "source": [
        "#### Popularity and Ratings\n",
        "\n",
        "One thing that we notice about our recommendation system is that it recommends movies regardless of ratings and popularity. It is true that **Batman and Robin** has a lot of similar characters as compared to **The Dark Knight** but it was a terrible movie that shouldn't be recommended to anyone.\n",
        "\n",
        "Therefore, we will add a mechanism to remove bad movies and return movies which are popular and have had a good critical response.\n",
        "\n",
        "I will take the top 25 movies based on similarity scores and calculate the vote of the 60th percentile movie. Then, using this as the value of $m$, we will calculate the weighted rating of each movie using IMDB's formula like we did in the Simple Recommender section."
      ],
      "metadata": {
        "_uuid": "536a4e8632d62d2b6a0c0d5e8b5731c39eb5529b",
        "_cell_guid": "77c9d0d7-684c-41ab-b806-b38264b2cf3f",
        "id": "l7u5yy-iyggL"
      },
      "cell_type": "markdown"
    },
    {
      "cell_type": "code",
      "source": [
        "print(smd.columns)"
      ],
      "metadata": {
        "colab": {
          "base_uri": "https://localhost:8080/"
        },
        "id": "F0thO7LVhqPB",
        "outputId": "3057779d-de9b-4342-f80a-f498ccad6649"
      },
      "execution_count": 98,
      "outputs": [
        {
          "output_type": "stream",
          "name": "stdout",
          "text": [
            "Index(['index', 'adult', 'belongs_to_collection', 'budget', 'genres',\n",
            "       'homepage', 'id', 'imdb_id', 'original_language', 'original_title',\n",
            "       'overview', 'popularity', 'poster_path', 'production_companies',\n",
            "       'production_countries', 'release_date', 'revenue', 'runtime',\n",
            "       'spoken_languages', 'status', 'tagline', 'title', 'video',\n",
            "       'vote_average', 'vote_count', 'cast', 'crew', 'keywords', 'cast_size',\n",
            "       'crew_size', 'director', 'soup'],\n",
            "      dtype='object')\n"
          ]
        }
      ]
    },
    {
      "outputs": [],
      "execution_count": 96,
      "source": [
        "def improved_recommendations(title):\n",
        "    idx = indices[title]\n",
        "    sim_scores = list(enumerate(cosine_sim[idx]))\n",
        "    sim_scores = sorted(sim_scores, key=lambda x: x[1], reverse=True)\n",
        "    sim_scores = sim_scores[1:26]\n",
        "    movie_indices = [i[0] for i in sim_scores]\n",
        "\n",
        "    movies = smd.iloc[movie_indices][['title', 'vote_count', 'vote_average', 'year']]\n",
        "    vote_counts = movies[movies['vote_count'].notnull()]['vote_count'].astype('int')\n",
        "    vote_averages = movies[movies['vote_average'].notnull()]['vote_average'].astype('int')\n",
        "    C = vote_averages.mean()\n",
        "    m = vote_counts.quantile(0.60)\n",
        "    qualified = movies[(movies['vote_count'] >= m) & (movies['vote_count'].notnull()) & (movies['vote_average'].notnull())]\n",
        "    qualified['vote_count'] = qualified['vote_count'].astype('int')\n",
        "    qualified['vote_average'] = qualified['vote_average'].astype('int')\n",
        "    qualified['wr'] = qualified.apply(weighted_rating, axis=1)\n",
        "    qualified = qualified.sort_values('wr', ascending=False).head(10)\n",
        "    return qualified"
      ],
      "metadata": {
        "_uuid": "0a7cc50433dcd13586dc1ee825b0880ad0c83869",
        "_cell_guid": "1b5f0675-caa1-41bf-8a9a-ba89b0e07872",
        "collapsed": true,
        "id": "0ndsr43zyggL"
      },
      "cell_type": "code"
    },
    {
      "outputs": [
        {
          "output_type": "execute_result",
          "data": {
            "text/plain": [
              "                                   title  vote_count  vote_average  year  \\\n",
              "7608                           Inception       14075             8  2010   \n",
              "8573                        Interstellar       11187             8  2014   \n",
              "6587                        The Prestige        4510             8  2006   \n",
              "3373                             Memento        4168             8  2000   \n",
              "7991               The Dark Knight Rises        9263             7  2012   \n",
              "6186                       Batman Begins        7511             7  2005   \n",
              "1122                      Batman Returns        1706             6  1992   \n",
              "132                       Batman Forever        1529             5  1995   \n",
              "9004  Batman v Superman: Dawn of Justice        7189             5  2016   \n",
              "1252                      Batman & Robin        1447             4  1997   \n",
              "\n",
              "            wr  \n",
              "7608  7.917588  \n",
              "8573  7.897107  \n",
              "6587  7.758148  \n",
              "3373  7.740175  \n",
              "7991  6.921448  \n",
              "6186  6.904127  \n",
              "1122  5.846862  \n",
              "132   5.054144  \n",
              "9004  5.013943  \n",
              "1252  4.287233  "
            ],
            "text/html": [
              "\n",
              "  <div id=\"df-02c55cb0-faa1-4e9f-a029-baf469b32f7c\" class=\"colab-df-container\">\n",
              "    <div>\n",
              "<style scoped>\n",
              "    .dataframe tbody tr th:only-of-type {\n",
              "        vertical-align: middle;\n",
              "    }\n",
              "\n",
              "    .dataframe tbody tr th {\n",
              "        vertical-align: top;\n",
              "    }\n",
              "\n",
              "    .dataframe thead th {\n",
              "        text-align: right;\n",
              "    }\n",
              "</style>\n",
              "<table border=\"1\" class=\"dataframe\">\n",
              "  <thead>\n",
              "    <tr style=\"text-align: right;\">\n",
              "      <th></th>\n",
              "      <th>title</th>\n",
              "      <th>vote_count</th>\n",
              "      <th>vote_average</th>\n",
              "      <th>year</th>\n",
              "      <th>wr</th>\n",
              "    </tr>\n",
              "  </thead>\n",
              "  <tbody>\n",
              "    <tr>\n",
              "      <th>7608</th>\n",
              "      <td>Inception</td>\n",
              "      <td>14075</td>\n",
              "      <td>8</td>\n",
              "      <td>2010</td>\n",
              "      <td>7.917588</td>\n",
              "    </tr>\n",
              "    <tr>\n",
              "      <th>8573</th>\n",
              "      <td>Interstellar</td>\n",
              "      <td>11187</td>\n",
              "      <td>8</td>\n",
              "      <td>2014</td>\n",
              "      <td>7.897107</td>\n",
              "    </tr>\n",
              "    <tr>\n",
              "      <th>6587</th>\n",
              "      <td>The Prestige</td>\n",
              "      <td>4510</td>\n",
              "      <td>8</td>\n",
              "      <td>2006</td>\n",
              "      <td>7.758148</td>\n",
              "    </tr>\n",
              "    <tr>\n",
              "      <th>3373</th>\n",
              "      <td>Memento</td>\n",
              "      <td>4168</td>\n",
              "      <td>8</td>\n",
              "      <td>2000</td>\n",
              "      <td>7.740175</td>\n",
              "    </tr>\n",
              "    <tr>\n",
              "      <th>7991</th>\n",
              "      <td>The Dark Knight Rises</td>\n",
              "      <td>9263</td>\n",
              "      <td>7</td>\n",
              "      <td>2012</td>\n",
              "      <td>6.921448</td>\n",
              "    </tr>\n",
              "    <tr>\n",
              "      <th>6186</th>\n",
              "      <td>Batman Begins</td>\n",
              "      <td>7511</td>\n",
              "      <td>7</td>\n",
              "      <td>2005</td>\n",
              "      <td>6.904127</td>\n",
              "    </tr>\n",
              "    <tr>\n",
              "      <th>1122</th>\n",
              "      <td>Batman Returns</td>\n",
              "      <td>1706</td>\n",
              "      <td>6</td>\n",
              "      <td>1992</td>\n",
              "      <td>5.846862</td>\n",
              "    </tr>\n",
              "    <tr>\n",
              "      <th>132</th>\n",
              "      <td>Batman Forever</td>\n",
              "      <td>1529</td>\n",
              "      <td>5</td>\n",
              "      <td>1995</td>\n",
              "      <td>5.054144</td>\n",
              "    </tr>\n",
              "    <tr>\n",
              "      <th>9004</th>\n",
              "      <td>Batman v Superman: Dawn of Justice</td>\n",
              "      <td>7189</td>\n",
              "      <td>5</td>\n",
              "      <td>2016</td>\n",
              "      <td>5.013943</td>\n",
              "    </tr>\n",
              "    <tr>\n",
              "      <th>1252</th>\n",
              "      <td>Batman &amp; Robin</td>\n",
              "      <td>1447</td>\n",
              "      <td>4</td>\n",
              "      <td>1997</td>\n",
              "      <td>4.287233</td>\n",
              "    </tr>\n",
              "  </tbody>\n",
              "</table>\n",
              "</div>\n",
              "    <div class=\"colab-df-buttons\">\n",
              "      \n",
              "  <div class=\"colab-df-container\">\n",
              "    <button class=\"colab-df-convert\" onclick=\"convertToInteractive('df-02c55cb0-faa1-4e9f-a029-baf469b32f7c')\"\n",
              "            title=\"Convert this dataframe to an interactive table.\"\n",
              "            style=\"display:none;\">\n",
              "      \n",
              "  <svg xmlns=\"http://www.w3.org/2000/svg\" height=\"24px\" viewBox=\"0 -960 960 960\">\n",
              "    <path d=\"M120-120v-720h720v720H120Zm60-500h600v-160H180v160Zm220 220h160v-160H400v160Zm0 220h160v-160H400v160ZM180-400h160v-160H180v160Zm440 0h160v-160H620v160ZM180-180h160v-160H180v160Zm440 0h160v-160H620v160Z\"/>\n",
              "  </svg>\n",
              "    </button>\n",
              "    \n",
              "  <style>\n",
              "    .colab-df-container {\n",
              "      display:flex;\n",
              "      gap: 12px;\n",
              "    }\n",
              "\n",
              "    .colab-df-convert {\n",
              "      background-color: #E8F0FE;\n",
              "      border: none;\n",
              "      border-radius: 50%;\n",
              "      cursor: pointer;\n",
              "      display: none;\n",
              "      fill: #1967D2;\n",
              "      height: 32px;\n",
              "      padding: 0 0 0 0;\n",
              "      width: 32px;\n",
              "    }\n",
              "\n",
              "    .colab-df-convert:hover {\n",
              "      background-color: #E2EBFA;\n",
              "      box-shadow: 0px 1px 2px rgba(60, 64, 67, 0.3), 0px 1px 3px 1px rgba(60, 64, 67, 0.15);\n",
              "      fill: #174EA6;\n",
              "    }\n",
              "\n",
              "    .colab-df-buttons div {\n",
              "      margin-bottom: 4px;\n",
              "    }\n",
              "\n",
              "    [theme=dark] .colab-df-convert {\n",
              "      background-color: #3B4455;\n",
              "      fill: #D2E3FC;\n",
              "    }\n",
              "\n",
              "    [theme=dark] .colab-df-convert:hover {\n",
              "      background-color: #434B5C;\n",
              "      box-shadow: 0px 1px 3px 1px rgba(0, 0, 0, 0.15);\n",
              "      filter: drop-shadow(0px 1px 2px rgba(0, 0, 0, 0.3));\n",
              "      fill: #FFFFFF;\n",
              "    }\n",
              "  </style>\n",
              "\n",
              "    <script>\n",
              "      const buttonEl =\n",
              "        document.querySelector('#df-02c55cb0-faa1-4e9f-a029-baf469b32f7c button.colab-df-convert');\n",
              "      buttonEl.style.display =\n",
              "        google.colab.kernel.accessAllowed ? 'block' : 'none';\n",
              "\n",
              "      async function convertToInteractive(key) {\n",
              "        const element = document.querySelector('#df-02c55cb0-faa1-4e9f-a029-baf469b32f7c');\n",
              "        const dataTable =\n",
              "          await google.colab.kernel.invokeFunction('convertToInteractive',\n",
              "                                                    [key], {});\n",
              "        if (!dataTable) return;\n",
              "\n",
              "        const docLinkHtml = 'Like what you see? Visit the ' +\n",
              "          '<a target=\"_blank\" href=https://colab.research.google.com/notebooks/data_table.ipynb>data table notebook</a>'\n",
              "          + ' to learn more about interactive tables.';\n",
              "        element.innerHTML = '';\n",
              "        dataTable['output_type'] = 'display_data';\n",
              "        await google.colab.output.renderOutput(dataTable, element);\n",
              "        const docLink = document.createElement('div');\n",
              "        docLink.innerHTML = docLinkHtml;\n",
              "        element.appendChild(docLink);\n",
              "      }\n",
              "    </script>\n",
              "  </div>\n",
              "  \n",
              "    </div>\n",
              "  </div>\n",
              "  "
            ]
          },
          "metadata": {},
          "execution_count": 99
        }
      ],
      "execution_count": 99,
      "source": [
        "# Create 'year' column from 'release_date'\n",
        "smd['year'] = pd.to_datetime(smd['release_date'], errors='coerce').dt.year\n",
        "\n",
        "# Then run your function\n",
        "improved_recommendations('The Dark Knight')"
      ],
      "metadata": {
        "_uuid": "c36a9662253e9a6bb1ae008e6cabd8dee7aaaa73",
        "_cell_guid": "7f4ce0f9-ebc0-464d-a3d4-084f156d02b4",
        "id": "lb8UKJNjyggL",
        "colab": {
          "base_uri": "https://localhost:8080/",
          "height": 359
        },
        "outputId": "550ab0bb-1a7e-4186-e161-e63763cf135d"
      },
      "cell_type": "code"
    },
    {
      "source": [
        "Let me also get the recommendations for **Mean Girls**, my girlfriend's favorite movie."
      ],
      "metadata": {
        "id": "q4oWtjGUyggM"
      },
      "cell_type": "markdown"
    },
    {
      "outputs": [
        {
          "output_type": "execute_result",
          "data": {
            "text/plain": [
              "                                        title  vote_count  vote_average  year  \\\n",
              "1539                       The Breakfast Club        2189             7  1985   \n",
              "390                        Dazed and Confused         588             7  1993   \n",
              "8855                                 The DUFF        1372             6  2015   \n",
              "3696                     The Princess Diaries        1063             6  2001   \n",
              "4735                            Freaky Friday         919             6  2003   \n",
              "6245                         Just Like Heaven         595             6  2005   \n",
              "6923                The Spiderwick Chronicles         593             6  2008   \n",
              "7450  American Pie Presents: The Book of Love         454             5  2009   \n",
              "7292               Ghosts of Girlfriends Past         716             5  2009   \n",
              "7865                    Mr. Popper's Penguins         775             5  2011   \n",
              "\n",
              "            wr  \n",
              "1539  6.709602  \n",
              "390   6.254682  \n",
              "8855  5.818541  \n",
              "3696  5.781086  \n",
              "4735  5.757786  \n",
              "6245  5.681521  \n",
              "6923  5.680901  \n",
              "7450  5.119690  \n",
              "7292  5.092422  \n",
              "7865  5.087912  "
            ],
            "text/html": [
              "\n",
              "  <div id=\"df-3594a893-3520-4248-beac-5c9bdc2b54ea\" class=\"colab-df-container\">\n",
              "    <div>\n",
              "<style scoped>\n",
              "    .dataframe tbody tr th:only-of-type {\n",
              "        vertical-align: middle;\n",
              "    }\n",
              "\n",
              "    .dataframe tbody tr th {\n",
              "        vertical-align: top;\n",
              "    }\n",
              "\n",
              "    .dataframe thead th {\n",
              "        text-align: right;\n",
              "    }\n",
              "</style>\n",
              "<table border=\"1\" class=\"dataframe\">\n",
              "  <thead>\n",
              "    <tr style=\"text-align: right;\">\n",
              "      <th></th>\n",
              "      <th>title</th>\n",
              "      <th>vote_count</th>\n",
              "      <th>vote_average</th>\n",
              "      <th>year</th>\n",
              "      <th>wr</th>\n",
              "    </tr>\n",
              "  </thead>\n",
              "  <tbody>\n",
              "    <tr>\n",
              "      <th>1539</th>\n",
              "      <td>The Breakfast Club</td>\n",
              "      <td>2189</td>\n",
              "      <td>7</td>\n",
              "      <td>1985</td>\n",
              "      <td>6.709602</td>\n",
              "    </tr>\n",
              "    <tr>\n",
              "      <th>390</th>\n",
              "      <td>Dazed and Confused</td>\n",
              "      <td>588</td>\n",
              "      <td>7</td>\n",
              "      <td>1993</td>\n",
              "      <td>6.254682</td>\n",
              "    </tr>\n",
              "    <tr>\n",
              "      <th>8855</th>\n",
              "      <td>The DUFF</td>\n",
              "      <td>1372</td>\n",
              "      <td>6</td>\n",
              "      <td>2015</td>\n",
              "      <td>5.818541</td>\n",
              "    </tr>\n",
              "    <tr>\n",
              "      <th>3696</th>\n",
              "      <td>The Princess Diaries</td>\n",
              "      <td>1063</td>\n",
              "      <td>6</td>\n",
              "      <td>2001</td>\n",
              "      <td>5.781086</td>\n",
              "    </tr>\n",
              "    <tr>\n",
              "      <th>4735</th>\n",
              "      <td>Freaky Friday</td>\n",
              "      <td>919</td>\n",
              "      <td>6</td>\n",
              "      <td>2003</td>\n",
              "      <td>5.757786</td>\n",
              "    </tr>\n",
              "    <tr>\n",
              "      <th>6245</th>\n",
              "      <td>Just Like Heaven</td>\n",
              "      <td>595</td>\n",
              "      <td>6</td>\n",
              "      <td>2005</td>\n",
              "      <td>5.681521</td>\n",
              "    </tr>\n",
              "    <tr>\n",
              "      <th>6923</th>\n",
              "      <td>The Spiderwick Chronicles</td>\n",
              "      <td>593</td>\n",
              "      <td>6</td>\n",
              "      <td>2008</td>\n",
              "      <td>5.680901</td>\n",
              "    </tr>\n",
              "    <tr>\n",
              "      <th>7450</th>\n",
              "      <td>American Pie Presents: The Book of Love</td>\n",
              "      <td>454</td>\n",
              "      <td>5</td>\n",
              "      <td>2009</td>\n",
              "      <td>5.119690</td>\n",
              "    </tr>\n",
              "    <tr>\n",
              "      <th>7292</th>\n",
              "      <td>Ghosts of Girlfriends Past</td>\n",
              "      <td>716</td>\n",
              "      <td>5</td>\n",
              "      <td>2009</td>\n",
              "      <td>5.092422</td>\n",
              "    </tr>\n",
              "    <tr>\n",
              "      <th>7865</th>\n",
              "      <td>Mr. Popper's Penguins</td>\n",
              "      <td>775</td>\n",
              "      <td>5</td>\n",
              "      <td>2011</td>\n",
              "      <td>5.087912</td>\n",
              "    </tr>\n",
              "  </tbody>\n",
              "</table>\n",
              "</div>\n",
              "    <div class=\"colab-df-buttons\">\n",
              "      \n",
              "  <div class=\"colab-df-container\">\n",
              "    <button class=\"colab-df-convert\" onclick=\"convertToInteractive('df-3594a893-3520-4248-beac-5c9bdc2b54ea')\"\n",
              "            title=\"Convert this dataframe to an interactive table.\"\n",
              "            style=\"display:none;\">\n",
              "      \n",
              "  <svg xmlns=\"http://www.w3.org/2000/svg\" height=\"24px\" viewBox=\"0 -960 960 960\">\n",
              "    <path d=\"M120-120v-720h720v720H120Zm60-500h600v-160H180v160Zm220 220h160v-160H400v160Zm0 220h160v-160H400v160ZM180-400h160v-160H180v160Zm440 0h160v-160H620v160ZM180-180h160v-160H180v160Zm440 0h160v-160H620v160Z\"/>\n",
              "  </svg>\n",
              "    </button>\n",
              "    \n",
              "  <style>\n",
              "    .colab-df-container {\n",
              "      display:flex;\n",
              "      gap: 12px;\n",
              "    }\n",
              "\n",
              "    .colab-df-convert {\n",
              "      background-color: #E8F0FE;\n",
              "      border: none;\n",
              "      border-radius: 50%;\n",
              "      cursor: pointer;\n",
              "      display: none;\n",
              "      fill: #1967D2;\n",
              "      height: 32px;\n",
              "      padding: 0 0 0 0;\n",
              "      width: 32px;\n",
              "    }\n",
              "\n",
              "    .colab-df-convert:hover {\n",
              "      background-color: #E2EBFA;\n",
              "      box-shadow: 0px 1px 2px rgba(60, 64, 67, 0.3), 0px 1px 3px 1px rgba(60, 64, 67, 0.15);\n",
              "      fill: #174EA6;\n",
              "    }\n",
              "\n",
              "    .colab-df-buttons div {\n",
              "      margin-bottom: 4px;\n",
              "    }\n",
              "\n",
              "    [theme=dark] .colab-df-convert {\n",
              "      background-color: #3B4455;\n",
              "      fill: #D2E3FC;\n",
              "    }\n",
              "\n",
              "    [theme=dark] .colab-df-convert:hover {\n",
              "      background-color: #434B5C;\n",
              "      box-shadow: 0px 1px 3px 1px rgba(0, 0, 0, 0.15);\n",
              "      filter: drop-shadow(0px 1px 2px rgba(0, 0, 0, 0.3));\n",
              "      fill: #FFFFFF;\n",
              "    }\n",
              "  </style>\n",
              "\n",
              "    <script>\n",
              "      const buttonEl =\n",
              "        document.querySelector('#df-3594a893-3520-4248-beac-5c9bdc2b54ea button.colab-df-convert');\n",
              "      buttonEl.style.display =\n",
              "        google.colab.kernel.accessAllowed ? 'block' : 'none';\n",
              "\n",
              "      async function convertToInteractive(key) {\n",
              "        const element = document.querySelector('#df-3594a893-3520-4248-beac-5c9bdc2b54ea');\n",
              "        const dataTable =\n",
              "          await google.colab.kernel.invokeFunction('convertToInteractive',\n",
              "                                                    [key], {});\n",
              "        if (!dataTable) return;\n",
              "\n",
              "        const docLinkHtml = 'Like what you see? Visit the ' +\n",
              "          '<a target=\"_blank\" href=https://colab.research.google.com/notebooks/data_table.ipynb>data table notebook</a>'\n",
              "          + ' to learn more about interactive tables.';\n",
              "        element.innerHTML = '';\n",
              "        dataTable['output_type'] = 'display_data';\n",
              "        await google.colab.output.renderOutput(dataTable, element);\n",
              "        const docLink = document.createElement('div');\n",
              "        docLink.innerHTML = docLinkHtml;\n",
              "        element.appendChild(docLink);\n",
              "      }\n",
              "    </script>\n",
              "  </div>\n",
              "  \n",
              "    </div>\n",
              "  </div>\n",
              "  "
            ]
          },
          "metadata": {},
          "execution_count": 100
        }
      ],
      "execution_count": 100,
      "source": [
        "improved_recommendations('Mean Girls')"
      ],
      "metadata": {
        "_uuid": "a04523fa7c17a9ae25d5fcade4c817d35e8b6f19",
        "_cell_guid": "69a93363-d82c-47e3-94fc-d59a219a4f3a",
        "id": "hKdkq2bMyggM",
        "colab": {
          "base_uri": "https://localhost:8080/",
          "height": 359
        },
        "outputId": "1acf0266-7f4e-4983-80c1-076db7596687"
      },
      "cell_type": "code"
    },
    {
      "source": [
        "Unfortunately, **Batman and Robin** does not disappear from our recommendation list. This is probably due to the fact that it is rated a 4, which is only slightly below average on TMDB. It certainly doesn't deserve a 4 when amazing movies like **The Dark Knight Rises** has only a 7. However, there is nothing much we can do about this. Therefore, we will conclude our Content Based Recommender section here and come back to it when we build a hybrid engine."
      ],
      "metadata": {
        "_uuid": "f8561762c1e258f52ab2c662f1eb3d5f695316b2",
        "_cell_guid": "c43b2445-0b09-4eaf-8a93-6c5037fae0ad",
        "id": "i_0PIN-XyggM"
      },
      "cell_type": "markdown"
    },
    {
      "source": [
        "## Collaborative Filtering\n",
        "\n",
        "Our content based engine suffers from some severe limitations. It is only capable of suggesting movies which are *close* to a certain movie. That is, it is not capable of capturing tastes and providing recommendations across genres.\n",
        "\n",
        "Also, the engine that we built is not really personal in that it doesn't capture the personal tastes and biases of a user. Anyone querying our engine for recommendations based on a movie will receive the same recommendations for that movie, regardless of who s/he is.\n",
        "\n",
        "Therefore, in this section, we will use a technique called **Collaborative Filtering** to make recommendations to Movie Watchers. Collaborative Filtering is based on the idea that users similar to a me can be used to predict how much I will like a particular product or service those users have used/experienced but I have not.\n",
        "\n",
        "I will not be implementing Collaborative Filtering from scratch. Instead, I will use the **Surprise** library that used extremely powerful algorithms like **Singular Value Decomposition (SVD)** to minimise RMSE (Root Mean Square Error) and give great recommendations."
      ],
      "metadata": {
        "_uuid": "ddc06567eb0fe770c7f3b77f3cb7b777a6923f5c",
        "_cell_guid": "a9a16fac-217d-4b36-b280-ca250ee921fe",
        "id": "_CfoCaiHyggM"
      },
      "cell_type": "markdown"
    },
    {
      "outputs": [],
      "execution_count": 101,
      "source": [
        "reader = Reader()"
      ],
      "metadata": {
        "_uuid": "de715e5b70a605e3bd65ad50bbfa9b71aac1aef4",
        "_cell_guid": "632e75c9-0068-456a-82d5-8a8eb44e98df",
        "collapsed": true,
        "id": "MDtLJaI4yggM"
      },
      "cell_type": "code"
    },
    {
      "outputs": [
        {
          "output_type": "execute_result",
          "data": {
            "text/plain": [
              "   userId  movieId  rating   timestamp\n",
              "0       1       31     2.5  1260759144\n",
              "1       1     1029     3.0  1260759179\n",
              "2       1     1061     3.0  1260759182\n",
              "3       1     1129     2.0  1260759185\n",
              "4       1     1172     4.0  1260759205"
            ],
            "text/html": [
              "\n",
              "  <div id=\"df-2a9d2a54-9f1f-49aa-aa03-645dcd9914c8\" class=\"colab-df-container\">\n",
              "    <div>\n",
              "<style scoped>\n",
              "    .dataframe tbody tr th:only-of-type {\n",
              "        vertical-align: middle;\n",
              "    }\n",
              "\n",
              "    .dataframe tbody tr th {\n",
              "        vertical-align: top;\n",
              "    }\n",
              "\n",
              "    .dataframe thead th {\n",
              "        text-align: right;\n",
              "    }\n",
              "</style>\n",
              "<table border=\"1\" class=\"dataframe\">\n",
              "  <thead>\n",
              "    <tr style=\"text-align: right;\">\n",
              "      <th></th>\n",
              "      <th>userId</th>\n",
              "      <th>movieId</th>\n",
              "      <th>rating</th>\n",
              "      <th>timestamp</th>\n",
              "    </tr>\n",
              "  </thead>\n",
              "  <tbody>\n",
              "    <tr>\n",
              "      <th>0</th>\n",
              "      <td>1</td>\n",
              "      <td>31</td>\n",
              "      <td>2.5</td>\n",
              "      <td>1260759144</td>\n",
              "    </tr>\n",
              "    <tr>\n",
              "      <th>1</th>\n",
              "      <td>1</td>\n",
              "      <td>1029</td>\n",
              "      <td>3.0</td>\n",
              "      <td>1260759179</td>\n",
              "    </tr>\n",
              "    <tr>\n",
              "      <th>2</th>\n",
              "      <td>1</td>\n",
              "      <td>1061</td>\n",
              "      <td>3.0</td>\n",
              "      <td>1260759182</td>\n",
              "    </tr>\n",
              "    <tr>\n",
              "      <th>3</th>\n",
              "      <td>1</td>\n",
              "      <td>1129</td>\n",
              "      <td>2.0</td>\n",
              "      <td>1260759185</td>\n",
              "    </tr>\n",
              "    <tr>\n",
              "      <th>4</th>\n",
              "      <td>1</td>\n",
              "      <td>1172</td>\n",
              "      <td>4.0</td>\n",
              "      <td>1260759205</td>\n",
              "    </tr>\n",
              "  </tbody>\n",
              "</table>\n",
              "</div>\n",
              "    <div class=\"colab-df-buttons\">\n",
              "      \n",
              "  <div class=\"colab-df-container\">\n",
              "    <button class=\"colab-df-convert\" onclick=\"convertToInteractive('df-2a9d2a54-9f1f-49aa-aa03-645dcd9914c8')\"\n",
              "            title=\"Convert this dataframe to an interactive table.\"\n",
              "            style=\"display:none;\">\n",
              "      \n",
              "  <svg xmlns=\"http://www.w3.org/2000/svg\" height=\"24px\" viewBox=\"0 -960 960 960\">\n",
              "    <path d=\"M120-120v-720h720v720H120Zm60-500h600v-160H180v160Zm220 220h160v-160H400v160Zm0 220h160v-160H400v160ZM180-400h160v-160H180v160Zm440 0h160v-160H620v160ZM180-180h160v-160H180v160Zm440 0h160v-160H620v160Z\"/>\n",
              "  </svg>\n",
              "    </button>\n",
              "    \n",
              "  <style>\n",
              "    .colab-df-container {\n",
              "      display:flex;\n",
              "      gap: 12px;\n",
              "    }\n",
              "\n",
              "    .colab-df-convert {\n",
              "      background-color: #E8F0FE;\n",
              "      border: none;\n",
              "      border-radius: 50%;\n",
              "      cursor: pointer;\n",
              "      display: none;\n",
              "      fill: #1967D2;\n",
              "      height: 32px;\n",
              "      padding: 0 0 0 0;\n",
              "      width: 32px;\n",
              "    }\n",
              "\n",
              "    .colab-df-convert:hover {\n",
              "      background-color: #E2EBFA;\n",
              "      box-shadow: 0px 1px 2px rgba(60, 64, 67, 0.3), 0px 1px 3px 1px rgba(60, 64, 67, 0.15);\n",
              "      fill: #174EA6;\n",
              "    }\n",
              "\n",
              "    .colab-df-buttons div {\n",
              "      margin-bottom: 4px;\n",
              "    }\n",
              "\n",
              "    [theme=dark] .colab-df-convert {\n",
              "      background-color: #3B4455;\n",
              "      fill: #D2E3FC;\n",
              "    }\n",
              "\n",
              "    [theme=dark] .colab-df-convert:hover {\n",
              "      background-color: #434B5C;\n",
              "      box-shadow: 0px 1px 3px 1px rgba(0, 0, 0, 0.15);\n",
              "      filter: drop-shadow(0px 1px 2px rgba(0, 0, 0, 0.3));\n",
              "      fill: #FFFFFF;\n",
              "    }\n",
              "  </style>\n",
              "\n",
              "    <script>\n",
              "      const buttonEl =\n",
              "        document.querySelector('#df-2a9d2a54-9f1f-49aa-aa03-645dcd9914c8 button.colab-df-convert');\n",
              "      buttonEl.style.display =\n",
              "        google.colab.kernel.accessAllowed ? 'block' : 'none';\n",
              "\n",
              "      async function convertToInteractive(key) {\n",
              "        const element = document.querySelector('#df-2a9d2a54-9f1f-49aa-aa03-645dcd9914c8');\n",
              "        const dataTable =\n",
              "          await google.colab.kernel.invokeFunction('convertToInteractive',\n",
              "                                                    [key], {});\n",
              "        if (!dataTable) return;\n",
              "\n",
              "        const docLinkHtml = 'Like what you see? Visit the ' +\n",
              "          '<a target=\"_blank\" href=https://colab.research.google.com/notebooks/data_table.ipynb>data table notebook</a>'\n",
              "          + ' to learn more about interactive tables.';\n",
              "        element.innerHTML = '';\n",
              "        dataTable['output_type'] = 'display_data';\n",
              "        await google.colab.output.renderOutput(dataTable, element);\n",
              "        const docLink = document.createElement('div');\n",
              "        docLink.innerHTML = docLinkHtml;\n",
              "        element.appendChild(docLink);\n",
              "      }\n",
              "    </script>\n",
              "  </div>\n",
              "  \n",
              "    </div>\n",
              "  </div>\n",
              "  "
            ]
          },
          "metadata": {},
          "execution_count": 102
        }
      ],
      "execution_count": 102,
      "source": [
        "ratings = pd.read_csv('/content/ratings_small.csv')\n",
        "ratings.head()"
      ],
      "metadata": {
        "_uuid": "18c484e823d3c4c1bbb91a5aa708e277c97cdaf1",
        "_cell_guid": "7b7a10d4-4f72-4c07-a514-ae5c2f0663a9",
        "id": "2rZtS85_yggM",
        "colab": {
          "base_uri": "https://localhost:8080/",
          "height": 204
        },
        "outputId": "ffed0af0-84ba-41aa-b625-2c27049c1174"
      },
      "cell_type": "code"
    },
    {
      "cell_type": "code",
      "source": [
        "from surprise import Dataset, Reader, SVD\n",
        "from surprise.model_selection import cross_validate\n",
        "import pandas as pd\n",
        "\n",
        "# Example ratings DataFrame (replace with your actual 'ratings' DataFrame)\n",
        "# ratings = pd.read_csv('path_to_ratings.csv')  # If you have a CSV\n",
        "\n",
        "# Define the rating scale\n",
        "reader = Reader(rating_scale=(1, 5))\n",
        "\n",
        "# Load the dataset from your ratings DataFrame\n",
        "data = Dataset.load_from_df(ratings[['userId', 'movieId', 'rating']], reader)\n",
        "\n",
        "# Use SVD algorithm\n",
        "algo = SVD()\n",
        "\n",
        "# Run 5-fold cross-validation and print results\n",
        "results = cross_validate(algo, data, measures=['RMSE', 'MAE'], cv=5, verbose=True)\n",
        "\n",
        "# If you want to see the average scores:\n",
        "print(f\"Average RMSE: {results['test_rmse'].mean():.4f}\")\n",
        "print(f\"Average MAE: {results['test_mae'].mean():.4f}\")"
      ],
      "metadata": {
        "colab": {
          "base_uri": "https://localhost:8080/"
        },
        "id": "iFI6AZ7ei9En",
        "outputId": "86d1873a-ffcc-4069-bddf-3e896d418ce4"
      },
      "execution_count": 104,
      "outputs": [
        {
          "output_type": "stream",
          "name": "stdout",
          "text": [
            "Evaluating RMSE, MAE of algorithm SVD on 5 split(s).\n",
            "\n",
            "                  Fold 1  Fold 2  Fold 3  Fold 4  Fold 5  Mean    Std     \n",
            "RMSE (testset)    0.8944  0.8897  0.8941  0.9012  0.9002  0.8959  0.0043  \n",
            "MAE (testset)     0.6875  0.6854  0.6889  0.6950  0.6925  0.6899  0.0035  \n",
            "Fit time          3.12    1.71    1.69    2.77    2.63    2.38    0.58    \n",
            "Test time         0.12    0.42    0.13    0.65    0.19    0.30    0.20    \n",
            "Average RMSE: 0.8959\n",
            "Average MAE: 0.6899\n"
          ]
        }
      ]
    },
    {
      "source": [
        "We get a mean **Root Mean Sqaure Error** of 0.8959\n",
        " which is more than good enough for our case. Let us now train on our dataset and arrive at predictions."
      ],
      "metadata": {
        "_uuid": "6f3d3cd411dc437a28ddbd184e77d9229bf224a2",
        "_cell_guid": "0ac7021a-9174-48bd-a1ca-5ab227409963",
        "id": "d1l5sZ6jyggN"
      },
      "cell_type": "markdown"
    },
    {
      "cell_type": "code",
      "source": [
        "trainset = data.build_full_trainset()\n",
        "svd = SVD()          # create an instance of the algorithm\n",
        "svd.fit(trainset)    # train the algorithm on the trainset"
      ],
      "metadata": {
        "colab": {
          "base_uri": "https://localhost:8080/"
        },
        "id": "79oEvwaqjhbK",
        "outputId": "8b8718a7-a456-4a59-90c8-7c1bcab6157c"
      },
      "execution_count": 107,
      "outputs": [
        {
          "output_type": "execute_result",
          "data": {
            "text/plain": [
              "<surprise.prediction_algorithms.matrix_factorization.SVD at 0x7e657999b210>"
            ]
          },
          "metadata": {},
          "execution_count": 107
        }
      ]
    },
    {
      "source": [
        "Let us pick user 5000 and check the ratings s/he has given."
      ],
      "metadata": {
        "_uuid": "f9fc5344c7545c16539aa0966f62b59be1761f34",
        "_cell_guid": "9d6653dc-7ad4-4c78-9c50-bbfe988b4397",
        "id": "0vKebAg8yggN"
      },
      "cell_type": "markdown"
    },
    {
      "outputs": [
        {
          "output_type": "execute_result",
          "data": {
            "text/plain": [
              "    userId  movieId  rating   timestamp\n",
              "0        1       31     2.5  1260759144\n",
              "1        1     1029     3.0  1260759179\n",
              "2        1     1061     3.0  1260759182\n",
              "3        1     1129     2.0  1260759185\n",
              "4        1     1172     4.0  1260759205\n",
              "5        1     1263     2.0  1260759151\n",
              "6        1     1287     2.0  1260759187\n",
              "7        1     1293     2.0  1260759148\n",
              "8        1     1339     3.5  1260759125\n",
              "9        1     1343     2.0  1260759131\n",
              "10       1     1371     2.5  1260759135\n",
              "11       1     1405     1.0  1260759203\n",
              "12       1     1953     4.0  1260759191\n",
              "13       1     2105     4.0  1260759139\n",
              "14       1     2150     3.0  1260759194\n",
              "15       1     2193     2.0  1260759198\n",
              "16       1     2294     2.0  1260759108\n",
              "17       1     2455     2.5  1260759113\n",
              "18       1     2968     1.0  1260759200\n",
              "19       1     3671     3.0  1260759117"
            ],
            "text/html": [
              "\n",
              "  <div id=\"df-99357c85-c0e6-4125-8784-12e8eb37436a\" class=\"colab-df-container\">\n",
              "    <div>\n",
              "<style scoped>\n",
              "    .dataframe tbody tr th:only-of-type {\n",
              "        vertical-align: middle;\n",
              "    }\n",
              "\n",
              "    .dataframe tbody tr th {\n",
              "        vertical-align: top;\n",
              "    }\n",
              "\n",
              "    .dataframe thead th {\n",
              "        text-align: right;\n",
              "    }\n",
              "</style>\n",
              "<table border=\"1\" class=\"dataframe\">\n",
              "  <thead>\n",
              "    <tr style=\"text-align: right;\">\n",
              "      <th></th>\n",
              "      <th>userId</th>\n",
              "      <th>movieId</th>\n",
              "      <th>rating</th>\n",
              "      <th>timestamp</th>\n",
              "    </tr>\n",
              "  </thead>\n",
              "  <tbody>\n",
              "    <tr>\n",
              "      <th>0</th>\n",
              "      <td>1</td>\n",
              "      <td>31</td>\n",
              "      <td>2.5</td>\n",
              "      <td>1260759144</td>\n",
              "    </tr>\n",
              "    <tr>\n",
              "      <th>1</th>\n",
              "      <td>1</td>\n",
              "      <td>1029</td>\n",
              "      <td>3.0</td>\n",
              "      <td>1260759179</td>\n",
              "    </tr>\n",
              "    <tr>\n",
              "      <th>2</th>\n",
              "      <td>1</td>\n",
              "      <td>1061</td>\n",
              "      <td>3.0</td>\n",
              "      <td>1260759182</td>\n",
              "    </tr>\n",
              "    <tr>\n",
              "      <th>3</th>\n",
              "      <td>1</td>\n",
              "      <td>1129</td>\n",
              "      <td>2.0</td>\n",
              "      <td>1260759185</td>\n",
              "    </tr>\n",
              "    <tr>\n",
              "      <th>4</th>\n",
              "      <td>1</td>\n",
              "      <td>1172</td>\n",
              "      <td>4.0</td>\n",
              "      <td>1260759205</td>\n",
              "    </tr>\n",
              "    <tr>\n",
              "      <th>5</th>\n",
              "      <td>1</td>\n",
              "      <td>1263</td>\n",
              "      <td>2.0</td>\n",
              "      <td>1260759151</td>\n",
              "    </tr>\n",
              "    <tr>\n",
              "      <th>6</th>\n",
              "      <td>1</td>\n",
              "      <td>1287</td>\n",
              "      <td>2.0</td>\n",
              "      <td>1260759187</td>\n",
              "    </tr>\n",
              "    <tr>\n",
              "      <th>7</th>\n",
              "      <td>1</td>\n",
              "      <td>1293</td>\n",
              "      <td>2.0</td>\n",
              "      <td>1260759148</td>\n",
              "    </tr>\n",
              "    <tr>\n",
              "      <th>8</th>\n",
              "      <td>1</td>\n",
              "      <td>1339</td>\n",
              "      <td>3.5</td>\n",
              "      <td>1260759125</td>\n",
              "    </tr>\n",
              "    <tr>\n",
              "      <th>9</th>\n",
              "      <td>1</td>\n",
              "      <td>1343</td>\n",
              "      <td>2.0</td>\n",
              "      <td>1260759131</td>\n",
              "    </tr>\n",
              "    <tr>\n",
              "      <th>10</th>\n",
              "      <td>1</td>\n",
              "      <td>1371</td>\n",
              "      <td>2.5</td>\n",
              "      <td>1260759135</td>\n",
              "    </tr>\n",
              "    <tr>\n",
              "      <th>11</th>\n",
              "      <td>1</td>\n",
              "      <td>1405</td>\n",
              "      <td>1.0</td>\n",
              "      <td>1260759203</td>\n",
              "    </tr>\n",
              "    <tr>\n",
              "      <th>12</th>\n",
              "      <td>1</td>\n",
              "      <td>1953</td>\n",
              "      <td>4.0</td>\n",
              "      <td>1260759191</td>\n",
              "    </tr>\n",
              "    <tr>\n",
              "      <th>13</th>\n",
              "      <td>1</td>\n",
              "      <td>2105</td>\n",
              "      <td>4.0</td>\n",
              "      <td>1260759139</td>\n",
              "    </tr>\n",
              "    <tr>\n",
              "      <th>14</th>\n",
              "      <td>1</td>\n",
              "      <td>2150</td>\n",
              "      <td>3.0</td>\n",
              "      <td>1260759194</td>\n",
              "    </tr>\n",
              "    <tr>\n",
              "      <th>15</th>\n",
              "      <td>1</td>\n",
              "      <td>2193</td>\n",
              "      <td>2.0</td>\n",
              "      <td>1260759198</td>\n",
              "    </tr>\n",
              "    <tr>\n",
              "      <th>16</th>\n",
              "      <td>1</td>\n",
              "      <td>2294</td>\n",
              "      <td>2.0</td>\n",
              "      <td>1260759108</td>\n",
              "    </tr>\n",
              "    <tr>\n",
              "      <th>17</th>\n",
              "      <td>1</td>\n",
              "      <td>2455</td>\n",
              "      <td>2.5</td>\n",
              "      <td>1260759113</td>\n",
              "    </tr>\n",
              "    <tr>\n",
              "      <th>18</th>\n",
              "      <td>1</td>\n",
              "      <td>2968</td>\n",
              "      <td>1.0</td>\n",
              "      <td>1260759200</td>\n",
              "    </tr>\n",
              "    <tr>\n",
              "      <th>19</th>\n",
              "      <td>1</td>\n",
              "      <td>3671</td>\n",
              "      <td>3.0</td>\n",
              "      <td>1260759117</td>\n",
              "    </tr>\n",
              "  </tbody>\n",
              "</table>\n",
              "</div>\n",
              "    <div class=\"colab-df-buttons\">\n",
              "      \n",
              "  <div class=\"colab-df-container\">\n",
              "    <button class=\"colab-df-convert\" onclick=\"convertToInteractive('df-99357c85-c0e6-4125-8784-12e8eb37436a')\"\n",
              "            title=\"Convert this dataframe to an interactive table.\"\n",
              "            style=\"display:none;\">\n",
              "      \n",
              "  <svg xmlns=\"http://www.w3.org/2000/svg\" height=\"24px\" viewBox=\"0 -960 960 960\">\n",
              "    <path d=\"M120-120v-720h720v720H120Zm60-500h600v-160H180v160Zm220 220h160v-160H400v160Zm0 220h160v-160H400v160ZM180-400h160v-160H180v160Zm440 0h160v-160H620v160ZM180-180h160v-160H180v160Zm440 0h160v-160H620v160Z\"/>\n",
              "  </svg>\n",
              "    </button>\n",
              "    \n",
              "  <style>\n",
              "    .colab-df-container {\n",
              "      display:flex;\n",
              "      gap: 12px;\n",
              "    }\n",
              "\n",
              "    .colab-df-convert {\n",
              "      background-color: #E8F0FE;\n",
              "      border: none;\n",
              "      border-radius: 50%;\n",
              "      cursor: pointer;\n",
              "      display: none;\n",
              "      fill: #1967D2;\n",
              "      height: 32px;\n",
              "      padding: 0 0 0 0;\n",
              "      width: 32px;\n",
              "    }\n",
              "\n",
              "    .colab-df-convert:hover {\n",
              "      background-color: #E2EBFA;\n",
              "      box-shadow: 0px 1px 2px rgba(60, 64, 67, 0.3), 0px 1px 3px 1px rgba(60, 64, 67, 0.15);\n",
              "      fill: #174EA6;\n",
              "    }\n",
              "\n",
              "    .colab-df-buttons div {\n",
              "      margin-bottom: 4px;\n",
              "    }\n",
              "\n",
              "    [theme=dark] .colab-df-convert {\n",
              "      background-color: #3B4455;\n",
              "      fill: #D2E3FC;\n",
              "    }\n",
              "\n",
              "    [theme=dark] .colab-df-convert:hover {\n",
              "      background-color: #434B5C;\n",
              "      box-shadow: 0px 1px 3px 1px rgba(0, 0, 0, 0.15);\n",
              "      filter: drop-shadow(0px 1px 2px rgba(0, 0, 0, 0.3));\n",
              "      fill: #FFFFFF;\n",
              "    }\n",
              "  </style>\n",
              "\n",
              "    <script>\n",
              "      const buttonEl =\n",
              "        document.querySelector('#df-99357c85-c0e6-4125-8784-12e8eb37436a button.colab-df-convert');\n",
              "      buttonEl.style.display =\n",
              "        google.colab.kernel.accessAllowed ? 'block' : 'none';\n",
              "\n",
              "      async function convertToInteractive(key) {\n",
              "        const element = document.querySelector('#df-99357c85-c0e6-4125-8784-12e8eb37436a');\n",
              "        const dataTable =\n",
              "          await google.colab.kernel.invokeFunction('convertToInteractive',\n",
              "                                                    [key], {});\n",
              "        if (!dataTable) return;\n",
              "\n",
              "        const docLinkHtml = 'Like what you see? Visit the ' +\n",
              "          '<a target=\"_blank\" href=https://colab.research.google.com/notebooks/data_table.ipynb>data table notebook</a>'\n",
              "          + ' to learn more about interactive tables.';\n",
              "        element.innerHTML = '';\n",
              "        dataTable['output_type'] = 'display_data';\n",
              "        await google.colab.output.renderOutput(dataTable, element);\n",
              "        const docLink = document.createElement('div');\n",
              "        docLink.innerHTML = docLinkHtml;\n",
              "        element.appendChild(docLink);\n",
              "      }\n",
              "    </script>\n",
              "  </div>\n",
              "  \n",
              "    </div>\n",
              "  </div>\n",
              "  "
            ]
          },
          "metadata": {},
          "execution_count": 108
        }
      ],
      "execution_count": 108,
      "source": [
        "ratings[ratings['userId'] == 1]"
      ],
      "metadata": {
        "_uuid": "2307233c3213417079c46fcfaaf2638ef1f0059f",
        "_cell_guid": "b57dd617-c9aa-4928-a7de-c6b7036cc07b",
        "id": "M94rYPMIyggN",
        "colab": {
          "base_uri": "https://localhost:8080/",
          "height": 669
        },
        "outputId": "59d3a8b2-94fd-47b4-cb6a-a98768094b0e"
      },
      "cell_type": "code"
    },
    {
      "outputs": [
        {
          "output_type": "execute_result",
          "data": {
            "text/plain": [
              "Prediction(uid=1, iid=302, r_ui=3, est=2.6773266407189564, details={'was_impossible': False})"
            ]
          },
          "metadata": {},
          "execution_count": 109
        }
      ],
      "execution_count": 109,
      "source": [
        "svd.predict(1, 302, 3)"
      ],
      "metadata": {
        "_uuid": "9c22aa0cc39595a4414d227a284f92b382eab67a",
        "_cell_guid": "e0701e4b-dde1-4791-b96e-faa4ae40df8e",
        "id": "9fRQUemPyggN",
        "colab": {
          "base_uri": "https://localhost:8080/"
        },
        "outputId": "8b525e0b-05bd-4c87-e462-b9460836e491"
      },
      "cell_type": "code"
    },
    {
      "source": [
        "For movie with ID 302, we get an estimated prediction of **2.686**. One startling feature of this recommender system is that it doesn't care what the movie is (or what it contains). It works purely on the basis of an assigned movie ID and tries to predict ratings based on how the other users have predicted the movie."
      ],
      "metadata": {
        "_uuid": "ba08a1dc335c8662f4bec66cec36fef04b2c63b5",
        "_cell_guid": "42878787-6661-4d30-b58a-c5408e683157",
        "id": "oAYwvq9gyggN"
      },
      "cell_type": "markdown"
    },
    {
      "source": [
        "## Hybrid Recommender\n",
        "\n",
        "![](https://www.toonpool.com/user/250/files/hybrid_20095.jpg)"
      ],
      "metadata": {
        "_uuid": "b6fe882ef8417e28bb024306a3879dc67affb7c6",
        "_cell_guid": "248ec145-20e4-429c-8718-5c20834be1be",
        "id": "LwWGf5shyggN"
      },
      "cell_type": "markdown"
    },
    {
      "source": [
        "In this section, I will try to build a simple hybrid recommender that brings together techniques we have implemented in the content based and collaborative filter based engines. This is how it will work:\n",
        "\n",
        "* **Input:** User ID and the Title of a Movie\n",
        "* **Output:** Similar movies sorted on the basis of expected ratings by that particular user."
      ],
      "metadata": {
        "_uuid": "0bbff42606aede898eb199443c8c0c5e39a48650",
        "_cell_guid": "a22740ea-3bfd-4045-89f3-e4199b0c2c6a",
        "id": "xlQ8kjpDyggN"
      },
      "cell_type": "markdown"
    },
    {
      "outputs": [],
      "execution_count": 110,
      "source": [
        "def convert_int(x):\n",
        "    try:\n",
        "        return int(x)\n",
        "    except:\n",
        "        return np.nan"
      ],
      "metadata": {
        "_uuid": "299a5feac15cdb6fd01f4e243949ba2424f5901c",
        "_cell_guid": "97a7efdb-9b93-4ed2-ac89-45c2f99a7304",
        "collapsed": true,
        "id": "LPaQ9Gv7yggN"
      },
      "cell_type": "code"
    },
    {
      "outputs": [],
      "execution_count": 111,
      "source": [
        "id_map = pd.read_csv('/content/links_small.csv')[['movieId', 'tmdbId']]\n",
        "id_map['tmdbId'] = id_map['tmdbId'].apply(convert_int)\n",
        "id_map.columns = ['movieId', 'id']\n",
        "id_map = id_map.merge(smd[['title', 'id']], on='id').set_index('title')\n",
        "#id_map = id_map.set_index('tmdbId')"
      ],
      "metadata": {
        "_uuid": "1d5f8381c8951f51e9e30d30a771fc7ded9761a2",
        "_cell_guid": "aae5c254-a6e7-40b3-bbda-b97a2d285ecd",
        "collapsed": true,
        "id": "xE73ZLzMyggO"
      },
      "cell_type": "code"
    },
    {
      "outputs": [],
      "execution_count": 112,
      "source": [
        "indices_map = id_map.set_index('id')"
      ],
      "metadata": {
        "_uuid": "c2c54697ee62ecb46fdb33ffb53dcc27e5397253",
        "_cell_guid": "07adb6c6-af45-47cb-ae9f-6ab64f64e3e4",
        "collapsed": true,
        "id": "asL4-iMPyggO"
      },
      "cell_type": "code"
    },
    {
      "outputs": [],
      "execution_count": 113,
      "source": [
        "def hybrid(userId, title):\n",
        "    idx = indices[title]\n",
        "    tmdbId = id_map.loc[title]['id']\n",
        "    #print(idx)\n",
        "    movie_id = id_map.loc[title]['movieId']\n",
        "\n",
        "    sim_scores = list(enumerate(cosine_sim[int(idx)]))\n",
        "    sim_scores = sorted(sim_scores, key=lambda x: x[1], reverse=True)\n",
        "    sim_scores = sim_scores[1:26]\n",
        "    movie_indices = [i[0] for i in sim_scores]\n",
        "\n",
        "    movies = smd.iloc[movie_indices][['title', 'vote_count', 'vote_average', 'year', 'id']]\n",
        "    movies['est'] = movies['id'].apply(lambda x: svd.predict(userId, indices_map.loc[x]['movieId']).est)\n",
        "    movies = movies.sort_values('est', ascending=False)\n",
        "    return movies.head(10)"
      ],
      "metadata": {
        "_uuid": "92291dbdbd9c9161d500476609c9cf95247e2b24",
        "_cell_guid": "46b03dde-afd4-45c3-a733-7ad894a31edb",
        "collapsed": true,
        "id": "C9rhbcY_yggO"
      },
      "cell_type": "code"
    },
    {
      "outputs": [
        {
          "output_type": "execute_result",
          "data": {
            "text/plain": [
              "                                   title  vote_count  vote_average  year  \\\n",
              "962                               Aliens      3282.0           7.7  1986   \n",
              "522           Terminator 2: Judgment Day      4274.0           7.7  1991   \n",
              "8357             Star Trek Into Darkness      4479.0           7.4  2013   \n",
              "999                       The Terminator      4208.0           7.4  1984   \n",
              "1613  Darby O'Gill and the Little People        35.0           6.7  1959   \n",
              "8622          X-Men: Days of Future Past      6155.0           7.5  2014   \n",
              "910                            The Abyss       822.0           7.1  1989   \n",
              "2006                    Fantastic Planet       140.0           7.6  1973   \n",
              "344                            True Lies      1138.0           6.8  1994   \n",
              "4323      Piranha Part Two: The Spawning        41.0           3.9  1981   \n",
              "\n",
              "          id       est  \n",
              "962      679  3.161779  \n",
              "522      280  3.128850  \n",
              "8357   54138  3.051126  \n",
              "999      218  2.975149  \n",
              "1613   18887  2.849140  \n",
              "8622  127585  2.802976  \n",
              "910     2756  2.800437  \n",
              "2006   16306  2.784653  \n",
              "344    36955  2.781904  \n",
              "4323   31646  2.657226  "
            ],
            "text/html": [
              "\n",
              "  <div id=\"df-7b306c7f-fa63-43b8-be05-329425b59a3b\" class=\"colab-df-container\">\n",
              "    <div>\n",
              "<style scoped>\n",
              "    .dataframe tbody tr th:only-of-type {\n",
              "        vertical-align: middle;\n",
              "    }\n",
              "\n",
              "    .dataframe tbody tr th {\n",
              "        vertical-align: top;\n",
              "    }\n",
              "\n",
              "    .dataframe thead th {\n",
              "        text-align: right;\n",
              "    }\n",
              "</style>\n",
              "<table border=\"1\" class=\"dataframe\">\n",
              "  <thead>\n",
              "    <tr style=\"text-align: right;\">\n",
              "      <th></th>\n",
              "      <th>title</th>\n",
              "      <th>vote_count</th>\n",
              "      <th>vote_average</th>\n",
              "      <th>year</th>\n",
              "      <th>id</th>\n",
              "      <th>est</th>\n",
              "    </tr>\n",
              "  </thead>\n",
              "  <tbody>\n",
              "    <tr>\n",
              "      <th>962</th>\n",
              "      <td>Aliens</td>\n",
              "      <td>3282.0</td>\n",
              "      <td>7.7</td>\n",
              "      <td>1986</td>\n",
              "      <td>679</td>\n",
              "      <td>3.161779</td>\n",
              "    </tr>\n",
              "    <tr>\n",
              "      <th>522</th>\n",
              "      <td>Terminator 2: Judgment Day</td>\n",
              "      <td>4274.0</td>\n",
              "      <td>7.7</td>\n",
              "      <td>1991</td>\n",
              "      <td>280</td>\n",
              "      <td>3.128850</td>\n",
              "    </tr>\n",
              "    <tr>\n",
              "      <th>8357</th>\n",
              "      <td>Star Trek Into Darkness</td>\n",
              "      <td>4479.0</td>\n",
              "      <td>7.4</td>\n",
              "      <td>2013</td>\n",
              "      <td>54138</td>\n",
              "      <td>3.051126</td>\n",
              "    </tr>\n",
              "    <tr>\n",
              "      <th>999</th>\n",
              "      <td>The Terminator</td>\n",
              "      <td>4208.0</td>\n",
              "      <td>7.4</td>\n",
              "      <td>1984</td>\n",
              "      <td>218</td>\n",
              "      <td>2.975149</td>\n",
              "    </tr>\n",
              "    <tr>\n",
              "      <th>1613</th>\n",
              "      <td>Darby O'Gill and the Little People</td>\n",
              "      <td>35.0</td>\n",
              "      <td>6.7</td>\n",
              "      <td>1959</td>\n",
              "      <td>18887</td>\n",
              "      <td>2.849140</td>\n",
              "    </tr>\n",
              "    <tr>\n",
              "      <th>8622</th>\n",
              "      <td>X-Men: Days of Future Past</td>\n",
              "      <td>6155.0</td>\n",
              "      <td>7.5</td>\n",
              "      <td>2014</td>\n",
              "      <td>127585</td>\n",
              "      <td>2.802976</td>\n",
              "    </tr>\n",
              "    <tr>\n",
              "      <th>910</th>\n",
              "      <td>The Abyss</td>\n",
              "      <td>822.0</td>\n",
              "      <td>7.1</td>\n",
              "      <td>1989</td>\n",
              "      <td>2756</td>\n",
              "      <td>2.800437</td>\n",
              "    </tr>\n",
              "    <tr>\n",
              "      <th>2006</th>\n",
              "      <td>Fantastic Planet</td>\n",
              "      <td>140.0</td>\n",
              "      <td>7.6</td>\n",
              "      <td>1973</td>\n",
              "      <td>16306</td>\n",
              "      <td>2.784653</td>\n",
              "    </tr>\n",
              "    <tr>\n",
              "      <th>344</th>\n",
              "      <td>True Lies</td>\n",
              "      <td>1138.0</td>\n",
              "      <td>6.8</td>\n",
              "      <td>1994</td>\n",
              "      <td>36955</td>\n",
              "      <td>2.781904</td>\n",
              "    </tr>\n",
              "    <tr>\n",
              "      <th>4323</th>\n",
              "      <td>Piranha Part Two: The Spawning</td>\n",
              "      <td>41.0</td>\n",
              "      <td>3.9</td>\n",
              "      <td>1981</td>\n",
              "      <td>31646</td>\n",
              "      <td>2.657226</td>\n",
              "    </tr>\n",
              "  </tbody>\n",
              "</table>\n",
              "</div>\n",
              "    <div class=\"colab-df-buttons\">\n",
              "      \n",
              "  <div class=\"colab-df-container\">\n",
              "    <button class=\"colab-df-convert\" onclick=\"convertToInteractive('df-7b306c7f-fa63-43b8-be05-329425b59a3b')\"\n",
              "            title=\"Convert this dataframe to an interactive table.\"\n",
              "            style=\"display:none;\">\n",
              "      \n",
              "  <svg xmlns=\"http://www.w3.org/2000/svg\" height=\"24px\" viewBox=\"0 -960 960 960\">\n",
              "    <path d=\"M120-120v-720h720v720H120Zm60-500h600v-160H180v160Zm220 220h160v-160H400v160Zm0 220h160v-160H400v160ZM180-400h160v-160H180v160Zm440 0h160v-160H620v160ZM180-180h160v-160H180v160Zm440 0h160v-160H620v160Z\"/>\n",
              "  </svg>\n",
              "    </button>\n",
              "    \n",
              "  <style>\n",
              "    .colab-df-container {\n",
              "      display:flex;\n",
              "      gap: 12px;\n",
              "    }\n",
              "\n",
              "    .colab-df-convert {\n",
              "      background-color: #E8F0FE;\n",
              "      border: none;\n",
              "      border-radius: 50%;\n",
              "      cursor: pointer;\n",
              "      display: none;\n",
              "      fill: #1967D2;\n",
              "      height: 32px;\n",
              "      padding: 0 0 0 0;\n",
              "      width: 32px;\n",
              "    }\n",
              "\n",
              "    .colab-df-convert:hover {\n",
              "      background-color: #E2EBFA;\n",
              "      box-shadow: 0px 1px 2px rgba(60, 64, 67, 0.3), 0px 1px 3px 1px rgba(60, 64, 67, 0.15);\n",
              "      fill: #174EA6;\n",
              "    }\n",
              "\n",
              "    .colab-df-buttons div {\n",
              "      margin-bottom: 4px;\n",
              "    }\n",
              "\n",
              "    [theme=dark] .colab-df-convert {\n",
              "      background-color: #3B4455;\n",
              "      fill: #D2E3FC;\n",
              "    }\n",
              "\n",
              "    [theme=dark] .colab-df-convert:hover {\n",
              "      background-color: #434B5C;\n",
              "      box-shadow: 0px 1px 3px 1px rgba(0, 0, 0, 0.15);\n",
              "      filter: drop-shadow(0px 1px 2px rgba(0, 0, 0, 0.3));\n",
              "      fill: #FFFFFF;\n",
              "    }\n",
              "  </style>\n",
              "\n",
              "    <script>\n",
              "      const buttonEl =\n",
              "        document.querySelector('#df-7b306c7f-fa63-43b8-be05-329425b59a3b button.colab-df-convert');\n",
              "      buttonEl.style.display =\n",
              "        google.colab.kernel.accessAllowed ? 'block' : 'none';\n",
              "\n",
              "      async function convertToInteractive(key) {\n",
              "        const element = document.querySelector('#df-7b306c7f-fa63-43b8-be05-329425b59a3b');\n",
              "        const dataTable =\n",
              "          await google.colab.kernel.invokeFunction('convertToInteractive',\n",
              "                                                    [key], {});\n",
              "        if (!dataTable) return;\n",
              "\n",
              "        const docLinkHtml = 'Like what you see? Visit the ' +\n",
              "          '<a target=\"_blank\" href=https://colab.research.google.com/notebooks/data_table.ipynb>data table notebook</a>'\n",
              "          + ' to learn more about interactive tables.';\n",
              "        element.innerHTML = '';\n",
              "        dataTable['output_type'] = 'display_data';\n",
              "        await google.colab.output.renderOutput(dataTable, element);\n",
              "        const docLink = document.createElement('div');\n",
              "        docLink.innerHTML = docLinkHtml;\n",
              "        element.appendChild(docLink);\n",
              "      }\n",
              "    </script>\n",
              "  </div>\n",
              "  \n",
              "    </div>\n",
              "  </div>\n",
              "  "
            ]
          },
          "metadata": {},
          "execution_count": 114
        }
      ],
      "execution_count": 114,
      "source": [
        "hybrid(1, 'Avatar')"
      ],
      "metadata": {
        "_uuid": "5cea2292f710fae80d580aa43c713531e97451ad",
        "_cell_guid": "ef53f237-5dd0-4f62-8c32-e9666b2268f5",
        "id": "H5kjuhApyggO",
        "colab": {
          "base_uri": "https://localhost:8080/",
          "height": 359
        },
        "outputId": "f705e9cc-4229-4544-fabf-3fb91f806203"
      },
      "cell_type": "code"
    },
    {
      "outputs": [
        {
          "output_type": "execute_result",
          "data": {
            "text/plain": [
              "                                   title  vote_count  vote_average  year  \\\n",
              "1613  Darby O'Gill and the Little People        35.0           6.7  1959   \n",
              "2124                         Superman II       642.0           6.5  1980   \n",
              "1660          Return from Witch Mountain        38.0           5.6  1978   \n",
              "999                       The Terminator      4208.0           7.4  1984   \n",
              "962                               Aliens      3282.0           7.7  1986   \n",
              "1368                             Titanic      7770.0           7.5  1997   \n",
              "2006                    Fantastic Planet       140.0           7.6  1973   \n",
              "8375                        Man of Steel      6462.0           6.5  2013   \n",
              "4001                     Hawk the Slayer        13.0           4.5  1980   \n",
              "4323      Piranha Part Two: The Spawning        41.0           3.9  1981   \n",
              "\n",
              "         id       est  \n",
              "1613  18887  3.539232  \n",
              "2124   8536  3.457561  \n",
              "1660  14822  3.437805  \n",
              "999     218  3.430812  \n",
              "962     679  3.406748  \n",
              "1368    597  3.388588  \n",
              "2006  16306  3.239282  \n",
              "8375  49521  3.179418  \n",
              "4001  25628  3.161210  \n",
              "4323  31646  3.132810  "
            ],
            "text/html": [
              "\n",
              "  <div id=\"df-04bd0aca-7ffe-4bd2-bac6-71ddb6e5a317\" class=\"colab-df-container\">\n",
              "    <div>\n",
              "<style scoped>\n",
              "    .dataframe tbody tr th:only-of-type {\n",
              "        vertical-align: middle;\n",
              "    }\n",
              "\n",
              "    .dataframe tbody tr th {\n",
              "        vertical-align: top;\n",
              "    }\n",
              "\n",
              "    .dataframe thead th {\n",
              "        text-align: right;\n",
              "    }\n",
              "</style>\n",
              "<table border=\"1\" class=\"dataframe\">\n",
              "  <thead>\n",
              "    <tr style=\"text-align: right;\">\n",
              "      <th></th>\n",
              "      <th>title</th>\n",
              "      <th>vote_count</th>\n",
              "      <th>vote_average</th>\n",
              "      <th>year</th>\n",
              "      <th>id</th>\n",
              "      <th>est</th>\n",
              "    </tr>\n",
              "  </thead>\n",
              "  <tbody>\n",
              "    <tr>\n",
              "      <th>1613</th>\n",
              "      <td>Darby O'Gill and the Little People</td>\n",
              "      <td>35.0</td>\n",
              "      <td>6.7</td>\n",
              "      <td>1959</td>\n",
              "      <td>18887</td>\n",
              "      <td>3.539232</td>\n",
              "    </tr>\n",
              "    <tr>\n",
              "      <th>2124</th>\n",
              "      <td>Superman II</td>\n",
              "      <td>642.0</td>\n",
              "      <td>6.5</td>\n",
              "      <td>1980</td>\n",
              "      <td>8536</td>\n",
              "      <td>3.457561</td>\n",
              "    </tr>\n",
              "    <tr>\n",
              "      <th>1660</th>\n",
              "      <td>Return from Witch Mountain</td>\n",
              "      <td>38.0</td>\n",
              "      <td>5.6</td>\n",
              "      <td>1978</td>\n",
              "      <td>14822</td>\n",
              "      <td>3.437805</td>\n",
              "    </tr>\n",
              "    <tr>\n",
              "      <th>999</th>\n",
              "      <td>The Terminator</td>\n",
              "      <td>4208.0</td>\n",
              "      <td>7.4</td>\n",
              "      <td>1984</td>\n",
              "      <td>218</td>\n",
              "      <td>3.430812</td>\n",
              "    </tr>\n",
              "    <tr>\n",
              "      <th>962</th>\n",
              "      <td>Aliens</td>\n",
              "      <td>3282.0</td>\n",
              "      <td>7.7</td>\n",
              "      <td>1986</td>\n",
              "      <td>679</td>\n",
              "      <td>3.406748</td>\n",
              "    </tr>\n",
              "    <tr>\n",
              "      <th>1368</th>\n",
              "      <td>Titanic</td>\n",
              "      <td>7770.0</td>\n",
              "      <td>7.5</td>\n",
              "      <td>1997</td>\n",
              "      <td>597</td>\n",
              "      <td>3.388588</td>\n",
              "    </tr>\n",
              "    <tr>\n",
              "      <th>2006</th>\n",
              "      <td>Fantastic Planet</td>\n",
              "      <td>140.0</td>\n",
              "      <td>7.6</td>\n",
              "      <td>1973</td>\n",
              "      <td>16306</td>\n",
              "      <td>3.239282</td>\n",
              "    </tr>\n",
              "    <tr>\n",
              "      <th>8375</th>\n",
              "      <td>Man of Steel</td>\n",
              "      <td>6462.0</td>\n",
              "      <td>6.5</td>\n",
              "      <td>2013</td>\n",
              "      <td>49521</td>\n",
              "      <td>3.179418</td>\n",
              "    </tr>\n",
              "    <tr>\n",
              "      <th>4001</th>\n",
              "      <td>Hawk the Slayer</td>\n",
              "      <td>13.0</td>\n",
              "      <td>4.5</td>\n",
              "      <td>1980</td>\n",
              "      <td>25628</td>\n",
              "      <td>3.161210</td>\n",
              "    </tr>\n",
              "    <tr>\n",
              "      <th>4323</th>\n",
              "      <td>Piranha Part Two: The Spawning</td>\n",
              "      <td>41.0</td>\n",
              "      <td>3.9</td>\n",
              "      <td>1981</td>\n",
              "      <td>31646</td>\n",
              "      <td>3.132810</td>\n",
              "    </tr>\n",
              "  </tbody>\n",
              "</table>\n",
              "</div>\n",
              "    <div class=\"colab-df-buttons\">\n",
              "      \n",
              "  <div class=\"colab-df-container\">\n",
              "    <button class=\"colab-df-convert\" onclick=\"convertToInteractive('df-04bd0aca-7ffe-4bd2-bac6-71ddb6e5a317')\"\n",
              "            title=\"Convert this dataframe to an interactive table.\"\n",
              "            style=\"display:none;\">\n",
              "      \n",
              "  <svg xmlns=\"http://www.w3.org/2000/svg\" height=\"24px\" viewBox=\"0 -960 960 960\">\n",
              "    <path d=\"M120-120v-720h720v720H120Zm60-500h600v-160H180v160Zm220 220h160v-160H400v160Zm0 220h160v-160H400v160ZM180-400h160v-160H180v160Zm440 0h160v-160H620v160ZM180-180h160v-160H180v160Zm440 0h160v-160H620v160Z\"/>\n",
              "  </svg>\n",
              "    </button>\n",
              "    \n",
              "  <style>\n",
              "    .colab-df-container {\n",
              "      display:flex;\n",
              "      gap: 12px;\n",
              "    }\n",
              "\n",
              "    .colab-df-convert {\n",
              "      background-color: #E8F0FE;\n",
              "      border: none;\n",
              "      border-radius: 50%;\n",
              "      cursor: pointer;\n",
              "      display: none;\n",
              "      fill: #1967D2;\n",
              "      height: 32px;\n",
              "      padding: 0 0 0 0;\n",
              "      width: 32px;\n",
              "    }\n",
              "\n",
              "    .colab-df-convert:hover {\n",
              "      background-color: #E2EBFA;\n",
              "      box-shadow: 0px 1px 2px rgba(60, 64, 67, 0.3), 0px 1px 3px 1px rgba(60, 64, 67, 0.15);\n",
              "      fill: #174EA6;\n",
              "    }\n",
              "\n",
              "    .colab-df-buttons div {\n",
              "      margin-bottom: 4px;\n",
              "    }\n",
              "\n",
              "    [theme=dark] .colab-df-convert {\n",
              "      background-color: #3B4455;\n",
              "      fill: #D2E3FC;\n",
              "    }\n",
              "\n",
              "    [theme=dark] .colab-df-convert:hover {\n",
              "      background-color: #434B5C;\n",
              "      box-shadow: 0px 1px 3px 1px rgba(0, 0, 0, 0.15);\n",
              "      filter: drop-shadow(0px 1px 2px rgba(0, 0, 0, 0.3));\n",
              "      fill: #FFFFFF;\n",
              "    }\n",
              "  </style>\n",
              "\n",
              "    <script>\n",
              "      const buttonEl =\n",
              "        document.querySelector('#df-04bd0aca-7ffe-4bd2-bac6-71ddb6e5a317 button.colab-df-convert');\n",
              "      buttonEl.style.display =\n",
              "        google.colab.kernel.accessAllowed ? 'block' : 'none';\n",
              "\n",
              "      async function convertToInteractive(key) {\n",
              "        const element = document.querySelector('#df-04bd0aca-7ffe-4bd2-bac6-71ddb6e5a317');\n",
              "        const dataTable =\n",
              "          await google.colab.kernel.invokeFunction('convertToInteractive',\n",
              "                                                    [key], {});\n",
              "        if (!dataTable) return;\n",
              "\n",
              "        const docLinkHtml = 'Like what you see? Visit the ' +\n",
              "          '<a target=\"_blank\" href=https://colab.research.google.com/notebooks/data_table.ipynb>data table notebook</a>'\n",
              "          + ' to learn more about interactive tables.';\n",
              "        element.innerHTML = '';\n",
              "        dataTable['output_type'] = 'display_data';\n",
              "        await google.colab.output.renderOutput(dataTable, element);\n",
              "        const docLink = document.createElement('div');\n",
              "        docLink.innerHTML = docLinkHtml;\n",
              "        element.appendChild(docLink);\n",
              "      }\n",
              "    </script>\n",
              "  </div>\n",
              "  \n",
              "    </div>\n",
              "  </div>\n",
              "  "
            ]
          },
          "metadata": {},
          "execution_count": 115
        }
      ],
      "execution_count": 115,
      "source": [
        "hybrid(500, 'Avatar')"
      ],
      "metadata": {
        "_uuid": "7fc2843807a5fbe792729eee7c74e9cabc6867ca",
        "_cell_guid": "381aba27-ecfa-43f1-9dad-c3379a57b8d9",
        "id": "b84XFRnAyggO",
        "colab": {
          "base_uri": "https://localhost:8080/",
          "height": 359
        },
        "outputId": "d9b84648-1b67-45da-dc9b-15471ff665e6"
      },
      "cell_type": "code"
    },
    {
      "source": [
        "We see that for our hybrid recommender, we get different recommendations for different users although the movie is the same. Hence, our recommendations are more personalized and tailored towards particular users."
      ],
      "metadata": {
        "_uuid": "446cdfa0b07f4f734d483393d56735c280978555",
        "_cell_guid": "ca97ebb9-d1d2-4631-a15e-d29580c6c4d1",
        "id": "hnhQG-9UyggP"
      },
      "cell_type": "markdown"
    },
    {
      "source": [
        "## Conclusion\n",
        "\n",
        "In this notebook, I have built 4 different recommendation engines based on different ideas and algorithms. They are as follows:\n",
        "\n",
        "1. **Simple Recommender:** This system used overall TMDB Vote Count and Vote Averages to build Top Movies Charts, in general and for a specific genre. The IMDB Weighted Rating System was used to calculate ratings on which the sorting was finally performed.\n",
        "2. **Content Based Recommender:** We built two content based engines; one that took movie overview and taglines as input and the other which took metadata such as cast, crew, genre and keywords to come up with predictions. We also deviced a simple filter to give greater preference to movies with more votes and higher ratings.\n",
        "3. **Collaborative Filtering:** We used the powerful Surprise Library to build a collaborative filter based on single value decomposition. The RMSE obtained was less than 1 and the engine gave estimated ratings for a given user and movie.\n",
        "4. **Hybrid Engine:** We brought together ideas from content and collaborative filterting to build an engine that gave movie suggestions to a particular user based on the estimated ratings that it had internally calculated for that user.\n"
      ],
      "metadata": {
        "_uuid": "ad1edcae8eecd5c725edbe18082bc4d8103ca800",
        "_cell_guid": "812fc4c7-b334-4f54-a05f-8fc0e7962a92",
        "id": "LgYO_zvYyggQ"
      },
      "cell_type": "markdown"
    }
  ],
  "nbformat_minor": 0,
  "nbformat": 4,
  "metadata": {
    "kernelspec": {
      "name": "python3",
      "display_name": "Python 3",
      "language": "python"
    },
    "language_info": {
      "name": "python",
      "file_extension": ".py",
      "codemirror_mode": {
        "name": "ipython",
        "version": 3
      },
      "pygments_lexer": "ipython3",
      "mimetype": "text/x-python",
      "nbconvert_exporter": "python",
      "version": "3.6.3"
    },
    "colab": {
      "provenance": []
    }
  }
}